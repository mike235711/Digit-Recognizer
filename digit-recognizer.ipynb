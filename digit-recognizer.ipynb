{
 "cells": [
  {
   "cell_type": "markdown",
   "id": "0c9f611d",
   "metadata": {
    "papermill": {
     "duration": 0.018609,
     "end_time": "2023-03-24T10:15:36.763442",
     "exception": false,
     "start_time": "2023-03-24T10:15:36.744833",
     "status": "completed"
    },
    "tags": []
   },
   "source": [
    "# Digit Recognizer"
   ]
  },
  {
   "cell_type": "markdown",
   "id": "0cb923ec",
   "metadata": {
    "papermill": {
     "duration": 0.016583,
     "end_time": "2023-03-24T10:15:36.796963",
     "exception": false,
     "start_time": "2023-03-24T10:15:36.780380",
     "status": "completed"
    },
    "tags": []
   },
   "source": [
    "## Table of Contents\n",
    "* [Introduction](#Introduction)\n",
    "* [Data Preparation](#Data_Preparation)\n",
    "    * [Importing the data](#Variance)\n",
    "    * [Checking for missing values](#Missing)\n",
    "    * [One hot encoding](#Onehot)\n",
    "    * [Normalizing the data](#Codingpca)\n",
    "* [Building the Models](#Building_the_Models)\n",
    "    * [Simple model with data in array](#section_2_1)\n",
    "    * [Simple model with data in matrix](#sub_section_2_1_1)\n",
    "    * [Convolutional model](#sub_section_2_1_2)\n",
    "* [Training the Models using Data Augmentation](#Training_the_Models_using_Data_Augmentation)\n",
    "* [Evaluation of Models](#Evaluation_of_Models)\n",
    "    * [Validation Curves](#section_3_1)\n",
    "    * [Confusion Matrices](#sub_section_3_1_1)\n",
    "* [Submissions](#Submissions)"
   ]
  },
  {
   "cell_type": "markdown",
   "id": "c37cf77b",
   "metadata": {
    "papermill": {
     "duration": 0.017089,
     "end_time": "2023-03-24T10:15:36.830132",
     "exception": false,
     "start_time": "2023-03-24T10:15:36.813043",
     "status": "completed"
    },
    "tags": []
   },
   "source": [
    "## 1. Introduction <a class=\"anchor\" id=\"Introduction\"></a>\n",
    "\n",
    "Here we present a comparison on how different Neural Networks are predicting the digit shown in an image. We build, train and test 3 neural networks:\n",
    "* Neural Network with image feeded as matrix: simple training set 0.97485, data augmentation 0.98317\n",
    "* Neural Network with image feeded as an array: simple training set 0.97321, data augmentation \n",
    "* Convolutional Neural Network with image feeded as matrix: simple training set 0.99257, data augmentation 0.98317.\n",
    "\n",
    "They all have 3 layers, and are trained with the same data using 20 epochs. It is interesting to note that the convolutional neural network did better without data augmentation, this could be because the model is overfitting eventhough we are changing the input images through data augmentation. It may just be because the model luckily turned out better with less data.  \n",
    "\n",
    "Also, one final observation is that when testing the model on the validation set, the convolutional neural network was the one that seemed to overfit the most the training data. However it was still better on the validation test than the other models.\n"
   ]
  },
  {
   "cell_type": "markdown",
   "id": "23c8e39a",
   "metadata": {
    "papermill": {
     "duration": 0.016007,
     "end_time": "2023-03-24T10:15:36.862678",
     "exception": false,
     "start_time": "2023-03-24T10:15:36.846671",
     "status": "completed"
    },
    "tags": []
   },
   "source": [
    "## 2. Data Preparation <a class=\"anchor\" id=\"Data_Preparation\"></a>\n",
    "\n",
    "### 2.1. Loading the data"
   ]
  },
  {
   "cell_type": "code",
   "execution_count": 1,
   "id": "fec1462f",
   "metadata": {
    "execution": {
     "iopub.execute_input": "2023-03-24T10:15:36.897088Z",
     "iopub.status.busy": "2023-03-24T10:15:36.896679Z",
     "iopub.status.idle": "2023-03-24T10:15:36.906682Z",
     "shell.execute_reply": "2023-03-24T10:15:36.905759Z"
    },
    "papermill": {
     "duration": 0.029728,
     "end_time": "2023-03-24T10:15:36.908967",
     "exception": false,
     "start_time": "2023-03-24T10:15:36.879239",
     "status": "completed"
    },
    "tags": []
   },
   "outputs": [],
   "source": [
    "import pandas as pd\n",
    "import numpy as np\n",
    "import matplotlib.pyplot as plt"
   ]
  },
  {
   "cell_type": "code",
   "execution_count": 2,
   "id": "b48b7097",
   "metadata": {
    "execution": {
     "iopub.execute_input": "2023-03-24T10:15:36.944144Z",
     "iopub.status.busy": "2023-03-24T10:15:36.943505Z",
     "iopub.status.idle": "2023-03-24T10:15:42.615022Z",
     "shell.execute_reply": "2023-03-24T10:15:42.613712Z"
    },
    "papermill": {
     "duration": 5.693135,
     "end_time": "2023-03-24T10:15:42.618448",
     "exception": false,
     "start_time": "2023-03-24T10:15:36.925313",
     "status": "completed"
    },
    "tags": []
   },
   "outputs": [],
   "source": [
    "dtrain = pd.read_csv(\"/kaggle/input/digit-recognizer/train.csv\")\n",
    "dtest = pd.read_csv(\"/kaggle/input/digit-recognizer/test.csv\")"
   ]
  },
  {
   "cell_type": "code",
   "execution_count": 3,
   "id": "edee7f65",
   "metadata": {
    "execution": {
     "iopub.execute_input": "2023-03-24T10:15:42.653719Z",
     "iopub.status.busy": "2023-03-24T10:15:42.652699Z",
     "iopub.status.idle": "2023-03-24T10:15:42.697771Z",
     "shell.execute_reply": "2023-03-24T10:15:42.696442Z"
    },
    "papermill": {
     "duration": 0.066863,
     "end_time": "2023-03-24T10:15:42.701601",
     "exception": false,
     "start_time": "2023-03-24T10:15:42.634738",
     "status": "completed"
    },
    "tags": []
   },
   "outputs": [
    {
     "data": {
      "text/html": [
       "<div>\n",
       "<style scoped>\n",
       "    .dataframe tbody tr th:only-of-type {\n",
       "        vertical-align: middle;\n",
       "    }\n",
       "\n",
       "    .dataframe tbody tr th {\n",
       "        vertical-align: top;\n",
       "    }\n",
       "\n",
       "    .dataframe thead th {\n",
       "        text-align: right;\n",
       "    }\n",
       "</style>\n",
       "<table border=\"1\" class=\"dataframe\">\n",
       "  <thead>\n",
       "    <tr style=\"text-align: right;\">\n",
       "      <th></th>\n",
       "      <th>label</th>\n",
       "      <th>pixel0</th>\n",
       "      <th>pixel1</th>\n",
       "      <th>pixel2</th>\n",
       "      <th>pixel3</th>\n",
       "      <th>pixel4</th>\n",
       "      <th>pixel5</th>\n",
       "      <th>pixel6</th>\n",
       "      <th>pixel7</th>\n",
       "      <th>pixel8</th>\n",
       "      <th>...</th>\n",
       "      <th>pixel774</th>\n",
       "      <th>pixel775</th>\n",
       "      <th>pixel776</th>\n",
       "      <th>pixel777</th>\n",
       "      <th>pixel778</th>\n",
       "      <th>pixel779</th>\n",
       "      <th>pixel780</th>\n",
       "      <th>pixel781</th>\n",
       "      <th>pixel782</th>\n",
       "      <th>pixel783</th>\n",
       "    </tr>\n",
       "  </thead>\n",
       "  <tbody>\n",
       "    <tr>\n",
       "      <th>0</th>\n",
       "      <td>1</td>\n",
       "      <td>0</td>\n",
       "      <td>0</td>\n",
       "      <td>0</td>\n",
       "      <td>0</td>\n",
       "      <td>0</td>\n",
       "      <td>0</td>\n",
       "      <td>0</td>\n",
       "      <td>0</td>\n",
       "      <td>0</td>\n",
       "      <td>...</td>\n",
       "      <td>0</td>\n",
       "      <td>0</td>\n",
       "      <td>0</td>\n",
       "      <td>0</td>\n",
       "      <td>0</td>\n",
       "      <td>0</td>\n",
       "      <td>0</td>\n",
       "      <td>0</td>\n",
       "      <td>0</td>\n",
       "      <td>0</td>\n",
       "    </tr>\n",
       "    <tr>\n",
       "      <th>1</th>\n",
       "      <td>0</td>\n",
       "      <td>0</td>\n",
       "      <td>0</td>\n",
       "      <td>0</td>\n",
       "      <td>0</td>\n",
       "      <td>0</td>\n",
       "      <td>0</td>\n",
       "      <td>0</td>\n",
       "      <td>0</td>\n",
       "      <td>0</td>\n",
       "      <td>...</td>\n",
       "      <td>0</td>\n",
       "      <td>0</td>\n",
       "      <td>0</td>\n",
       "      <td>0</td>\n",
       "      <td>0</td>\n",
       "      <td>0</td>\n",
       "      <td>0</td>\n",
       "      <td>0</td>\n",
       "      <td>0</td>\n",
       "      <td>0</td>\n",
       "    </tr>\n",
       "    <tr>\n",
       "      <th>2</th>\n",
       "      <td>1</td>\n",
       "      <td>0</td>\n",
       "      <td>0</td>\n",
       "      <td>0</td>\n",
       "      <td>0</td>\n",
       "      <td>0</td>\n",
       "      <td>0</td>\n",
       "      <td>0</td>\n",
       "      <td>0</td>\n",
       "      <td>0</td>\n",
       "      <td>...</td>\n",
       "      <td>0</td>\n",
       "      <td>0</td>\n",
       "      <td>0</td>\n",
       "      <td>0</td>\n",
       "      <td>0</td>\n",
       "      <td>0</td>\n",
       "      <td>0</td>\n",
       "      <td>0</td>\n",
       "      <td>0</td>\n",
       "      <td>0</td>\n",
       "    </tr>\n",
       "    <tr>\n",
       "      <th>3</th>\n",
       "      <td>4</td>\n",
       "      <td>0</td>\n",
       "      <td>0</td>\n",
       "      <td>0</td>\n",
       "      <td>0</td>\n",
       "      <td>0</td>\n",
       "      <td>0</td>\n",
       "      <td>0</td>\n",
       "      <td>0</td>\n",
       "      <td>0</td>\n",
       "      <td>...</td>\n",
       "      <td>0</td>\n",
       "      <td>0</td>\n",
       "      <td>0</td>\n",
       "      <td>0</td>\n",
       "      <td>0</td>\n",
       "      <td>0</td>\n",
       "      <td>0</td>\n",
       "      <td>0</td>\n",
       "      <td>0</td>\n",
       "      <td>0</td>\n",
       "    </tr>\n",
       "    <tr>\n",
       "      <th>4</th>\n",
       "      <td>0</td>\n",
       "      <td>0</td>\n",
       "      <td>0</td>\n",
       "      <td>0</td>\n",
       "      <td>0</td>\n",
       "      <td>0</td>\n",
       "      <td>0</td>\n",
       "      <td>0</td>\n",
       "      <td>0</td>\n",
       "      <td>0</td>\n",
       "      <td>...</td>\n",
       "      <td>0</td>\n",
       "      <td>0</td>\n",
       "      <td>0</td>\n",
       "      <td>0</td>\n",
       "      <td>0</td>\n",
       "      <td>0</td>\n",
       "      <td>0</td>\n",
       "      <td>0</td>\n",
       "      <td>0</td>\n",
       "      <td>0</td>\n",
       "    </tr>\n",
       "    <tr>\n",
       "      <th>...</th>\n",
       "      <td>...</td>\n",
       "      <td>...</td>\n",
       "      <td>...</td>\n",
       "      <td>...</td>\n",
       "      <td>...</td>\n",
       "      <td>...</td>\n",
       "      <td>...</td>\n",
       "      <td>...</td>\n",
       "      <td>...</td>\n",
       "      <td>...</td>\n",
       "      <td>...</td>\n",
       "      <td>...</td>\n",
       "      <td>...</td>\n",
       "      <td>...</td>\n",
       "      <td>...</td>\n",
       "      <td>...</td>\n",
       "      <td>...</td>\n",
       "      <td>...</td>\n",
       "      <td>...</td>\n",
       "      <td>...</td>\n",
       "      <td>...</td>\n",
       "    </tr>\n",
       "    <tr>\n",
       "      <th>41995</th>\n",
       "      <td>0</td>\n",
       "      <td>0</td>\n",
       "      <td>0</td>\n",
       "      <td>0</td>\n",
       "      <td>0</td>\n",
       "      <td>0</td>\n",
       "      <td>0</td>\n",
       "      <td>0</td>\n",
       "      <td>0</td>\n",
       "      <td>0</td>\n",
       "      <td>...</td>\n",
       "      <td>0</td>\n",
       "      <td>0</td>\n",
       "      <td>0</td>\n",
       "      <td>0</td>\n",
       "      <td>0</td>\n",
       "      <td>0</td>\n",
       "      <td>0</td>\n",
       "      <td>0</td>\n",
       "      <td>0</td>\n",
       "      <td>0</td>\n",
       "    </tr>\n",
       "    <tr>\n",
       "      <th>41996</th>\n",
       "      <td>1</td>\n",
       "      <td>0</td>\n",
       "      <td>0</td>\n",
       "      <td>0</td>\n",
       "      <td>0</td>\n",
       "      <td>0</td>\n",
       "      <td>0</td>\n",
       "      <td>0</td>\n",
       "      <td>0</td>\n",
       "      <td>0</td>\n",
       "      <td>...</td>\n",
       "      <td>0</td>\n",
       "      <td>0</td>\n",
       "      <td>0</td>\n",
       "      <td>0</td>\n",
       "      <td>0</td>\n",
       "      <td>0</td>\n",
       "      <td>0</td>\n",
       "      <td>0</td>\n",
       "      <td>0</td>\n",
       "      <td>0</td>\n",
       "    </tr>\n",
       "    <tr>\n",
       "      <th>41997</th>\n",
       "      <td>7</td>\n",
       "      <td>0</td>\n",
       "      <td>0</td>\n",
       "      <td>0</td>\n",
       "      <td>0</td>\n",
       "      <td>0</td>\n",
       "      <td>0</td>\n",
       "      <td>0</td>\n",
       "      <td>0</td>\n",
       "      <td>0</td>\n",
       "      <td>...</td>\n",
       "      <td>0</td>\n",
       "      <td>0</td>\n",
       "      <td>0</td>\n",
       "      <td>0</td>\n",
       "      <td>0</td>\n",
       "      <td>0</td>\n",
       "      <td>0</td>\n",
       "      <td>0</td>\n",
       "      <td>0</td>\n",
       "      <td>0</td>\n",
       "    </tr>\n",
       "    <tr>\n",
       "      <th>41998</th>\n",
       "      <td>6</td>\n",
       "      <td>0</td>\n",
       "      <td>0</td>\n",
       "      <td>0</td>\n",
       "      <td>0</td>\n",
       "      <td>0</td>\n",
       "      <td>0</td>\n",
       "      <td>0</td>\n",
       "      <td>0</td>\n",
       "      <td>0</td>\n",
       "      <td>...</td>\n",
       "      <td>0</td>\n",
       "      <td>0</td>\n",
       "      <td>0</td>\n",
       "      <td>0</td>\n",
       "      <td>0</td>\n",
       "      <td>0</td>\n",
       "      <td>0</td>\n",
       "      <td>0</td>\n",
       "      <td>0</td>\n",
       "      <td>0</td>\n",
       "    </tr>\n",
       "    <tr>\n",
       "      <th>41999</th>\n",
       "      <td>9</td>\n",
       "      <td>0</td>\n",
       "      <td>0</td>\n",
       "      <td>0</td>\n",
       "      <td>0</td>\n",
       "      <td>0</td>\n",
       "      <td>0</td>\n",
       "      <td>0</td>\n",
       "      <td>0</td>\n",
       "      <td>0</td>\n",
       "      <td>...</td>\n",
       "      <td>0</td>\n",
       "      <td>0</td>\n",
       "      <td>0</td>\n",
       "      <td>0</td>\n",
       "      <td>0</td>\n",
       "      <td>0</td>\n",
       "      <td>0</td>\n",
       "      <td>0</td>\n",
       "      <td>0</td>\n",
       "      <td>0</td>\n",
       "    </tr>\n",
       "  </tbody>\n",
       "</table>\n",
       "<p>42000 rows × 785 columns</p>\n",
       "</div>"
      ],
      "text/plain": [
       "       label  pixel0  pixel1  pixel2  pixel3  pixel4  pixel5  pixel6  pixel7  \\\n",
       "0          1       0       0       0       0       0       0       0       0   \n",
       "1          0       0       0       0       0       0       0       0       0   \n",
       "2          1       0       0       0       0       0       0       0       0   \n",
       "3          4       0       0       0       0       0       0       0       0   \n",
       "4          0       0       0       0       0       0       0       0       0   \n",
       "...      ...     ...     ...     ...     ...     ...     ...     ...     ...   \n",
       "41995      0       0       0       0       0       0       0       0       0   \n",
       "41996      1       0       0       0       0       0       0       0       0   \n",
       "41997      7       0       0       0       0       0       0       0       0   \n",
       "41998      6       0       0       0       0       0       0       0       0   \n",
       "41999      9       0       0       0       0       0       0       0       0   \n",
       "\n",
       "       pixel8  ...  pixel774  pixel775  pixel776  pixel777  pixel778  \\\n",
       "0           0  ...         0         0         0         0         0   \n",
       "1           0  ...         0         0         0         0         0   \n",
       "2           0  ...         0         0         0         0         0   \n",
       "3           0  ...         0         0         0         0         0   \n",
       "4           0  ...         0         0         0         0         0   \n",
       "...       ...  ...       ...       ...       ...       ...       ...   \n",
       "41995       0  ...         0         0         0         0         0   \n",
       "41996       0  ...         0         0         0         0         0   \n",
       "41997       0  ...         0         0         0         0         0   \n",
       "41998       0  ...         0         0         0         0         0   \n",
       "41999       0  ...         0         0         0         0         0   \n",
       "\n",
       "       pixel779  pixel780  pixel781  pixel782  pixel783  \n",
       "0             0         0         0         0         0  \n",
       "1             0         0         0         0         0  \n",
       "2             0         0         0         0         0  \n",
       "3             0         0         0         0         0  \n",
       "4             0         0         0         0         0  \n",
       "...         ...       ...       ...       ...       ...  \n",
       "41995         0         0         0         0         0  \n",
       "41996         0         0         0         0         0  \n",
       "41997         0         0         0         0         0  \n",
       "41998         0         0         0         0         0  \n",
       "41999         0         0         0         0         0  \n",
       "\n",
       "[42000 rows x 785 columns]"
      ]
     },
     "execution_count": 3,
     "metadata": {},
     "output_type": "execute_result"
    }
   ],
   "source": [
    "dtrain"
   ]
  },
  {
   "cell_type": "code",
   "execution_count": 4,
   "id": "1d6f0265",
   "metadata": {
    "execution": {
     "iopub.execute_input": "2023-03-24T10:15:42.738371Z",
     "iopub.status.busy": "2023-03-24T10:15:42.737203Z",
     "iopub.status.idle": "2023-03-24T10:15:42.762240Z",
     "shell.execute_reply": "2023-03-24T10:15:42.760955Z"
    },
    "papermill": {
     "duration": 0.04635,
     "end_time": "2023-03-24T10:15:42.765123",
     "exception": false,
     "start_time": "2023-03-24T10:15:42.718773",
     "status": "completed"
    },
    "tags": []
   },
   "outputs": [
    {
     "data": {
      "text/html": [
       "<div>\n",
       "<style scoped>\n",
       "    .dataframe tbody tr th:only-of-type {\n",
       "        vertical-align: middle;\n",
       "    }\n",
       "\n",
       "    .dataframe tbody tr th {\n",
       "        vertical-align: top;\n",
       "    }\n",
       "\n",
       "    .dataframe thead th {\n",
       "        text-align: right;\n",
       "    }\n",
       "</style>\n",
       "<table border=\"1\" class=\"dataframe\">\n",
       "  <thead>\n",
       "    <tr style=\"text-align: right;\">\n",
       "      <th></th>\n",
       "      <th>pixel0</th>\n",
       "      <th>pixel1</th>\n",
       "      <th>pixel2</th>\n",
       "      <th>pixel3</th>\n",
       "      <th>pixel4</th>\n",
       "      <th>pixel5</th>\n",
       "      <th>pixel6</th>\n",
       "      <th>pixel7</th>\n",
       "      <th>pixel8</th>\n",
       "      <th>pixel9</th>\n",
       "      <th>...</th>\n",
       "      <th>pixel774</th>\n",
       "      <th>pixel775</th>\n",
       "      <th>pixel776</th>\n",
       "      <th>pixel777</th>\n",
       "      <th>pixel778</th>\n",
       "      <th>pixel779</th>\n",
       "      <th>pixel780</th>\n",
       "      <th>pixel781</th>\n",
       "      <th>pixel782</th>\n",
       "      <th>pixel783</th>\n",
       "    </tr>\n",
       "  </thead>\n",
       "  <tbody>\n",
       "    <tr>\n",
       "      <th>0</th>\n",
       "      <td>0</td>\n",
       "      <td>0</td>\n",
       "      <td>0</td>\n",
       "      <td>0</td>\n",
       "      <td>0</td>\n",
       "      <td>0</td>\n",
       "      <td>0</td>\n",
       "      <td>0</td>\n",
       "      <td>0</td>\n",
       "      <td>0</td>\n",
       "      <td>...</td>\n",
       "      <td>0</td>\n",
       "      <td>0</td>\n",
       "      <td>0</td>\n",
       "      <td>0</td>\n",
       "      <td>0</td>\n",
       "      <td>0</td>\n",
       "      <td>0</td>\n",
       "      <td>0</td>\n",
       "      <td>0</td>\n",
       "      <td>0</td>\n",
       "    </tr>\n",
       "    <tr>\n",
       "      <th>1</th>\n",
       "      <td>0</td>\n",
       "      <td>0</td>\n",
       "      <td>0</td>\n",
       "      <td>0</td>\n",
       "      <td>0</td>\n",
       "      <td>0</td>\n",
       "      <td>0</td>\n",
       "      <td>0</td>\n",
       "      <td>0</td>\n",
       "      <td>0</td>\n",
       "      <td>...</td>\n",
       "      <td>0</td>\n",
       "      <td>0</td>\n",
       "      <td>0</td>\n",
       "      <td>0</td>\n",
       "      <td>0</td>\n",
       "      <td>0</td>\n",
       "      <td>0</td>\n",
       "      <td>0</td>\n",
       "      <td>0</td>\n",
       "      <td>0</td>\n",
       "    </tr>\n",
       "    <tr>\n",
       "      <th>2</th>\n",
       "      <td>0</td>\n",
       "      <td>0</td>\n",
       "      <td>0</td>\n",
       "      <td>0</td>\n",
       "      <td>0</td>\n",
       "      <td>0</td>\n",
       "      <td>0</td>\n",
       "      <td>0</td>\n",
       "      <td>0</td>\n",
       "      <td>0</td>\n",
       "      <td>...</td>\n",
       "      <td>0</td>\n",
       "      <td>0</td>\n",
       "      <td>0</td>\n",
       "      <td>0</td>\n",
       "      <td>0</td>\n",
       "      <td>0</td>\n",
       "      <td>0</td>\n",
       "      <td>0</td>\n",
       "      <td>0</td>\n",
       "      <td>0</td>\n",
       "    </tr>\n",
       "    <tr>\n",
       "      <th>3</th>\n",
       "      <td>0</td>\n",
       "      <td>0</td>\n",
       "      <td>0</td>\n",
       "      <td>0</td>\n",
       "      <td>0</td>\n",
       "      <td>0</td>\n",
       "      <td>0</td>\n",
       "      <td>0</td>\n",
       "      <td>0</td>\n",
       "      <td>0</td>\n",
       "      <td>...</td>\n",
       "      <td>0</td>\n",
       "      <td>0</td>\n",
       "      <td>0</td>\n",
       "      <td>0</td>\n",
       "      <td>0</td>\n",
       "      <td>0</td>\n",
       "      <td>0</td>\n",
       "      <td>0</td>\n",
       "      <td>0</td>\n",
       "      <td>0</td>\n",
       "    </tr>\n",
       "    <tr>\n",
       "      <th>4</th>\n",
       "      <td>0</td>\n",
       "      <td>0</td>\n",
       "      <td>0</td>\n",
       "      <td>0</td>\n",
       "      <td>0</td>\n",
       "      <td>0</td>\n",
       "      <td>0</td>\n",
       "      <td>0</td>\n",
       "      <td>0</td>\n",
       "      <td>0</td>\n",
       "      <td>...</td>\n",
       "      <td>0</td>\n",
       "      <td>0</td>\n",
       "      <td>0</td>\n",
       "      <td>0</td>\n",
       "      <td>0</td>\n",
       "      <td>0</td>\n",
       "      <td>0</td>\n",
       "      <td>0</td>\n",
       "      <td>0</td>\n",
       "      <td>0</td>\n",
       "    </tr>\n",
       "    <tr>\n",
       "      <th>...</th>\n",
       "      <td>...</td>\n",
       "      <td>...</td>\n",
       "      <td>...</td>\n",
       "      <td>...</td>\n",
       "      <td>...</td>\n",
       "      <td>...</td>\n",
       "      <td>...</td>\n",
       "      <td>...</td>\n",
       "      <td>...</td>\n",
       "      <td>...</td>\n",
       "      <td>...</td>\n",
       "      <td>...</td>\n",
       "      <td>...</td>\n",
       "      <td>...</td>\n",
       "      <td>...</td>\n",
       "      <td>...</td>\n",
       "      <td>...</td>\n",
       "      <td>...</td>\n",
       "      <td>...</td>\n",
       "      <td>...</td>\n",
       "      <td>...</td>\n",
       "    </tr>\n",
       "    <tr>\n",
       "      <th>27995</th>\n",
       "      <td>0</td>\n",
       "      <td>0</td>\n",
       "      <td>0</td>\n",
       "      <td>0</td>\n",
       "      <td>0</td>\n",
       "      <td>0</td>\n",
       "      <td>0</td>\n",
       "      <td>0</td>\n",
       "      <td>0</td>\n",
       "      <td>0</td>\n",
       "      <td>...</td>\n",
       "      <td>0</td>\n",
       "      <td>0</td>\n",
       "      <td>0</td>\n",
       "      <td>0</td>\n",
       "      <td>0</td>\n",
       "      <td>0</td>\n",
       "      <td>0</td>\n",
       "      <td>0</td>\n",
       "      <td>0</td>\n",
       "      <td>0</td>\n",
       "    </tr>\n",
       "    <tr>\n",
       "      <th>27996</th>\n",
       "      <td>0</td>\n",
       "      <td>0</td>\n",
       "      <td>0</td>\n",
       "      <td>0</td>\n",
       "      <td>0</td>\n",
       "      <td>0</td>\n",
       "      <td>0</td>\n",
       "      <td>0</td>\n",
       "      <td>0</td>\n",
       "      <td>0</td>\n",
       "      <td>...</td>\n",
       "      <td>0</td>\n",
       "      <td>0</td>\n",
       "      <td>0</td>\n",
       "      <td>0</td>\n",
       "      <td>0</td>\n",
       "      <td>0</td>\n",
       "      <td>0</td>\n",
       "      <td>0</td>\n",
       "      <td>0</td>\n",
       "      <td>0</td>\n",
       "    </tr>\n",
       "    <tr>\n",
       "      <th>27997</th>\n",
       "      <td>0</td>\n",
       "      <td>0</td>\n",
       "      <td>0</td>\n",
       "      <td>0</td>\n",
       "      <td>0</td>\n",
       "      <td>0</td>\n",
       "      <td>0</td>\n",
       "      <td>0</td>\n",
       "      <td>0</td>\n",
       "      <td>0</td>\n",
       "      <td>...</td>\n",
       "      <td>0</td>\n",
       "      <td>0</td>\n",
       "      <td>0</td>\n",
       "      <td>0</td>\n",
       "      <td>0</td>\n",
       "      <td>0</td>\n",
       "      <td>0</td>\n",
       "      <td>0</td>\n",
       "      <td>0</td>\n",
       "      <td>0</td>\n",
       "    </tr>\n",
       "    <tr>\n",
       "      <th>27998</th>\n",
       "      <td>0</td>\n",
       "      <td>0</td>\n",
       "      <td>0</td>\n",
       "      <td>0</td>\n",
       "      <td>0</td>\n",
       "      <td>0</td>\n",
       "      <td>0</td>\n",
       "      <td>0</td>\n",
       "      <td>0</td>\n",
       "      <td>0</td>\n",
       "      <td>...</td>\n",
       "      <td>0</td>\n",
       "      <td>0</td>\n",
       "      <td>0</td>\n",
       "      <td>0</td>\n",
       "      <td>0</td>\n",
       "      <td>0</td>\n",
       "      <td>0</td>\n",
       "      <td>0</td>\n",
       "      <td>0</td>\n",
       "      <td>0</td>\n",
       "    </tr>\n",
       "    <tr>\n",
       "      <th>27999</th>\n",
       "      <td>0</td>\n",
       "      <td>0</td>\n",
       "      <td>0</td>\n",
       "      <td>0</td>\n",
       "      <td>0</td>\n",
       "      <td>0</td>\n",
       "      <td>0</td>\n",
       "      <td>0</td>\n",
       "      <td>0</td>\n",
       "      <td>0</td>\n",
       "      <td>...</td>\n",
       "      <td>0</td>\n",
       "      <td>0</td>\n",
       "      <td>0</td>\n",
       "      <td>0</td>\n",
       "      <td>0</td>\n",
       "      <td>0</td>\n",
       "      <td>0</td>\n",
       "      <td>0</td>\n",
       "      <td>0</td>\n",
       "      <td>0</td>\n",
       "    </tr>\n",
       "  </tbody>\n",
       "</table>\n",
       "<p>28000 rows × 784 columns</p>\n",
       "</div>"
      ],
      "text/plain": [
       "       pixel0  pixel1  pixel2  pixel3  pixel4  pixel5  pixel6  pixel7  pixel8  \\\n",
       "0           0       0       0       0       0       0       0       0       0   \n",
       "1           0       0       0       0       0       0       0       0       0   \n",
       "2           0       0       0       0       0       0       0       0       0   \n",
       "3           0       0       0       0       0       0       0       0       0   \n",
       "4           0       0       0       0       0       0       0       0       0   \n",
       "...       ...     ...     ...     ...     ...     ...     ...     ...     ...   \n",
       "27995       0       0       0       0       0       0       0       0       0   \n",
       "27996       0       0       0       0       0       0       0       0       0   \n",
       "27997       0       0       0       0       0       0       0       0       0   \n",
       "27998       0       0       0       0       0       0       0       0       0   \n",
       "27999       0       0       0       0       0       0       0       0       0   \n",
       "\n",
       "       pixel9  ...  pixel774  pixel775  pixel776  pixel777  pixel778  \\\n",
       "0           0  ...         0         0         0         0         0   \n",
       "1           0  ...         0         0         0         0         0   \n",
       "2           0  ...         0         0         0         0         0   \n",
       "3           0  ...         0         0         0         0         0   \n",
       "4           0  ...         0         0         0         0         0   \n",
       "...       ...  ...       ...       ...       ...       ...       ...   \n",
       "27995       0  ...         0         0         0         0         0   \n",
       "27996       0  ...         0         0         0         0         0   \n",
       "27997       0  ...         0         0         0         0         0   \n",
       "27998       0  ...         0         0         0         0         0   \n",
       "27999       0  ...         0         0         0         0         0   \n",
       "\n",
       "       pixel779  pixel780  pixel781  pixel782  pixel783  \n",
       "0             0         0         0         0         0  \n",
       "1             0         0         0         0         0  \n",
       "2             0         0         0         0         0  \n",
       "3             0         0         0         0         0  \n",
       "4             0         0         0         0         0  \n",
       "...         ...       ...       ...       ...       ...  \n",
       "27995         0         0         0         0         0  \n",
       "27996         0         0         0         0         0  \n",
       "27997         0         0         0         0         0  \n",
       "27998         0         0         0         0         0  \n",
       "27999         0         0         0         0         0  \n",
       "\n",
       "[28000 rows x 784 columns]"
      ]
     },
     "execution_count": 4,
     "metadata": {},
     "output_type": "execute_result"
    }
   ],
   "source": [
    "dtest"
   ]
  },
  {
   "cell_type": "markdown",
   "id": "9306ee7d",
   "metadata": {
    "papermill": {
     "duration": 0.016791,
     "end_time": "2023-03-24T10:15:42.799491",
     "exception": false,
     "start_time": "2023-03-24T10:15:42.782700",
     "status": "completed"
    },
    "tags": []
   },
   "source": [
    "### 2.2. Checking for missing values"
   ]
  },
  {
   "cell_type": "code",
   "execution_count": 5,
   "id": "f377b1ef",
   "metadata": {
    "execution": {
     "iopub.execute_input": "2023-03-24T10:15:42.835888Z",
     "iopub.status.busy": "2023-03-24T10:15:42.834908Z",
     "iopub.status.idle": "2023-03-24T10:15:42.852989Z",
     "shell.execute_reply": "2023-03-24T10:15:42.851909Z"
    },
    "papermill": {
     "duration": 0.03947,
     "end_time": "2023-03-24T10:15:42.855892",
     "exception": false,
     "start_time": "2023-03-24T10:15:42.816422",
     "status": "completed"
    },
    "tags": []
   },
   "outputs": [],
   "source": [
    "for i in dtrain.isnull().any():\n",
    "    if i == True:\n",
    "        print(i) #Checking if there is any null values in the training set"
   ]
  },
  {
   "cell_type": "markdown",
   "id": "f279de8c",
   "metadata": {
    "papermill": {
     "duration": 0.016879,
     "end_time": "2023-03-24T10:15:42.890123",
     "exception": false,
     "start_time": "2023-03-24T10:15:42.873244",
     "status": "completed"
    },
    "tags": []
   },
   "source": [
    "There's no null values in the training set."
   ]
  },
  {
   "cell_type": "code",
   "execution_count": 6,
   "id": "46ae4779",
   "metadata": {
    "execution": {
     "iopub.execute_input": "2023-03-24T10:15:42.926335Z",
     "iopub.status.busy": "2023-03-24T10:15:42.925919Z",
     "iopub.status.idle": "2023-03-24T10:15:42.940762Z",
     "shell.execute_reply": "2023-03-24T10:15:42.939501Z"
    },
    "papermill": {
     "duration": 0.036271,
     "end_time": "2023-03-24T10:15:42.943490",
     "exception": false,
     "start_time": "2023-03-24T10:15:42.907219",
     "status": "completed"
    },
    "tags": []
   },
   "outputs": [],
   "source": [
    "for i in dtest.isnull().any():\n",
    "    if i == True:\n",
    "        print(i) #Checking if there is any null values in the test set"
   ]
  },
  {
   "cell_type": "markdown",
   "id": "e7e242a1",
   "metadata": {
    "papermill": {
     "duration": 0.016885,
     "end_time": "2023-03-24T10:15:42.977449",
     "exception": false,
     "start_time": "2023-03-24T10:15:42.960564",
     "status": "completed"
    },
    "tags": []
   },
   "source": [
    "There's no null values in the test set."
   ]
  },
  {
   "cell_type": "markdown",
   "id": "b4afebb1",
   "metadata": {
    "papermill": {
     "duration": 0.016595,
     "end_time": "2023-03-24T10:15:43.011039",
     "exception": false,
     "start_time": "2023-03-24T10:15:42.994444",
     "status": "completed"
    },
    "tags": []
   },
   "source": [
    "Note from the dataset that for each image we have 784 pixels, this is because in the competition description we are told that the images are 28x28 pixel images. Hence lets transform the 784 length arrays into 28 by 28 matrixes. These describe better the images. First we must drop the label column in the training data."
   ]
  },
  {
   "cell_type": "code",
   "execution_count": 7,
   "id": "9dd074c9",
   "metadata": {
    "execution": {
     "iopub.execute_input": "2023-03-24T10:15:43.048211Z",
     "iopub.status.busy": "2023-03-24T10:15:43.047293Z",
     "iopub.status.idle": "2023-03-24T10:15:43.063278Z",
     "shell.execute_reply": "2023-03-24T10:15:43.061859Z"
    },
    "papermill": {
     "duration": 0.037708,
     "end_time": "2023-03-24T10:15:43.065800",
     "exception": false,
     "start_time": "2023-03-24T10:15:43.028092",
     "status": "completed"
    },
    "tags": []
   },
   "outputs": [
    {
     "data": {
      "text/plain": [
       "1    4684\n",
       "7    4401\n",
       "3    4351\n",
       "9    4188\n",
       "2    4177\n",
       "6    4137\n",
       "0    4132\n",
       "4    4072\n",
       "8    4063\n",
       "5    3795\n",
       "Name: label, dtype: int64"
      ]
     },
     "execution_count": 7,
     "metadata": {},
     "output_type": "execute_result"
    }
   ],
   "source": [
    "Y_train = dtrain[\"label\"]\n",
    "Y_train.value_counts()"
   ]
  },
  {
   "cell_type": "markdown",
   "id": "58142943",
   "metadata": {
    "papermill": {
     "duration": 0.017066,
     "end_time": "2023-03-24T10:15:43.101067",
     "exception": false,
     "start_time": "2023-03-24T10:15:43.084001",
     "status": "completed"
    },
    "tags": []
   },
   "source": [
    "There's a similar amount of images for each digit, which is good for training our model.\n"
   ]
  },
  {
   "cell_type": "markdown",
   "id": "7035a7e9",
   "metadata": {
    "papermill": {
     "duration": 0.017622,
     "end_time": "2023-03-24T10:15:43.135982",
     "exception": false,
     "start_time": "2023-03-24T10:15:43.118360",
     "status": "completed"
    },
    "tags": []
   },
   "source": [
    "### 2.3. One hot encoding"
   ]
  },
  {
   "cell_type": "code",
   "execution_count": 8,
   "id": "6869cf09",
   "metadata": {
    "execution": {
     "iopub.execute_input": "2023-03-24T10:15:43.172698Z",
     "iopub.status.busy": "2023-03-24T10:15:43.172080Z",
     "iopub.status.idle": "2023-03-24T10:15:44.286552Z",
     "shell.execute_reply": "2023-03-24T10:15:44.285007Z"
    },
    "papermill": {
     "duration": 1.136574,
     "end_time": "2023-03-24T10:15:44.289772",
     "exception": false,
     "start_time": "2023-03-24T10:15:43.153198",
     "status": "completed"
    },
    "tags": []
   },
   "outputs": [],
   "source": [
    "from sklearn.preprocessing import OneHotEncoder"
   ]
  },
  {
   "cell_type": "code",
   "execution_count": 9,
   "id": "3d0f1a6e",
   "metadata": {
    "execution": {
     "iopub.execute_input": "2023-03-24T10:15:44.327179Z",
     "iopub.status.busy": "2023-03-24T10:15:44.326766Z",
     "iopub.status.idle": "2023-03-24T10:15:44.348706Z",
     "shell.execute_reply": "2023-03-24T10:15:44.347276Z"
    },
    "papermill": {
     "duration": 0.043936,
     "end_time": "2023-03-24T10:15:44.351406",
     "exception": false,
     "start_time": "2023-03-24T10:15:44.307470",
     "status": "completed"
    },
    "tags": []
   },
   "outputs": [
    {
     "data": {
      "text/plain": [
       "array([[0., 1., 0., ..., 0., 0., 0.],\n",
       "       [1., 0., 0., ..., 0., 0., 0.],\n",
       "       [0., 1., 0., ..., 0., 0., 0.],\n",
       "       ...,\n",
       "       [0., 0., 0., ..., 1., 0., 0.],\n",
       "       [0., 0., 0., ..., 0., 0., 0.],\n",
       "       [0., 0., 0., ..., 0., 0., 1.]])"
      ]
     },
     "execution_count": 9,
     "metadata": {},
     "output_type": "execute_result"
    }
   ],
   "source": [
    "ohe = OneHotEncoder()\n",
    "onehottrain = ohe.fit_transform(dtrain[['label']]).toarray()\n",
    "onehottrain"
   ]
  },
  {
   "cell_type": "code",
   "execution_count": 10,
   "id": "a9afbaa9",
   "metadata": {
    "execution": {
     "iopub.execute_input": "2023-03-24T10:15:44.389293Z",
     "iopub.status.busy": "2023-03-24T10:15:44.388859Z",
     "iopub.status.idle": "2023-03-24T10:15:44.396037Z",
     "shell.execute_reply": "2023-03-24T10:15:44.394436Z"
    },
    "papermill": {
     "duration": 0.031421,
     "end_time": "2023-03-24T10:15:44.400363",
     "exception": false,
     "start_time": "2023-03-24T10:15:44.368942",
     "status": "completed"
    },
    "tags": []
   },
   "outputs": [
    {
     "name": "stdout",
     "output_type": "stream",
     "text": [
      "[array([0, 1, 2, 3, 4, 5, 6, 7, 8, 9])]\n"
     ]
    }
   ],
   "source": [
    "features_labels = ohe.categories_ \n",
    "print(features_labels)"
   ]
  },
  {
   "cell_type": "code",
   "execution_count": 11,
   "id": "ece06f9d",
   "metadata": {
    "execution": {
     "iopub.execute_input": "2023-03-24T10:15:44.437904Z",
     "iopub.status.busy": "2023-03-24T10:15:44.437488Z",
     "iopub.status.idle": "2023-03-24T10:15:44.445877Z",
     "shell.execute_reply": "2023-03-24T10:15:44.444608Z"
    },
    "papermill": {
     "duration": 0.030338,
     "end_time": "2023-03-24T10:15:44.448605",
     "exception": false,
     "start_time": "2023-03-24T10:15:44.418267",
     "status": "completed"
    },
    "tags": []
   },
   "outputs": [],
   "source": [
    "onehotfeatures = pd.DataFrame(np.array(onehottrain), columns= features_labels)\n",
    "Y_train = onehotfeatures"
   ]
  },
  {
   "cell_type": "code",
   "execution_count": 12,
   "id": "388a5950",
   "metadata": {
    "execution": {
     "iopub.execute_input": "2023-03-24T10:15:44.485676Z",
     "iopub.status.busy": "2023-03-24T10:15:44.485217Z",
     "iopub.status.idle": "2023-03-24T10:15:44.571115Z",
     "shell.execute_reply": "2023-03-24T10:15:44.569786Z"
    },
    "papermill": {
     "duration": 0.108029,
     "end_time": "2023-03-24T10:15:44.574028",
     "exception": false,
     "start_time": "2023-03-24T10:15:44.465999",
     "status": "completed"
    },
    "tags": []
   },
   "outputs": [],
   "source": [
    "X_dtrain = dtrain.drop('label', axis = 1)"
   ]
  },
  {
   "cell_type": "code",
   "execution_count": 13,
   "id": "1fca1956",
   "metadata": {
    "execution": {
     "iopub.execute_input": "2023-03-24T10:15:44.610900Z",
     "iopub.status.busy": "2023-03-24T10:15:44.610495Z",
     "iopub.status.idle": "2023-03-24T10:15:44.617649Z",
     "shell.execute_reply": "2023-03-24T10:15:44.616451Z"
    },
    "papermill": {
     "duration": 0.028761,
     "end_time": "2023-03-24T10:15:44.620190",
     "exception": false,
     "start_time": "2023-03-24T10:15:44.591429",
     "status": "completed"
    },
    "tags": []
   },
   "outputs": [
    {
     "data": {
      "text/plain": [
       "array([[0, 0, 0, ..., 0, 0, 0],\n",
       "       [0, 0, 0, ..., 0, 0, 0],\n",
       "       [0, 0, 0, ..., 0, 0, 0],\n",
       "       ...,\n",
       "       [0, 0, 0, ..., 0, 0, 0],\n",
       "       [0, 0, 0, ..., 0, 0, 0],\n",
       "       [0, 0, 0, ..., 0, 0, 0]])"
      ]
     },
     "execution_count": 13,
     "metadata": {},
     "output_type": "execute_result"
    }
   ],
   "source": [
    "X_dtrain.values"
   ]
  },
  {
   "cell_type": "markdown",
   "id": "70a019c0",
   "metadata": {
    "papermill": {
     "duration": 0.017298,
     "end_time": "2023-03-24T10:15:44.655186",
     "exception": false,
     "start_time": "2023-03-24T10:15:44.637888",
     "status": "completed"
    },
    "tags": []
   },
   "source": [
    "### 2.4. Normalization\n",
    "\n",
    "We normalize the pixel values, since this makes the neural network perform better. "
   ]
  },
  {
   "cell_type": "code",
   "execution_count": 14,
   "id": "6bb26145",
   "metadata": {
    "execution": {
     "iopub.execute_input": "2023-03-24T10:15:44.692123Z",
     "iopub.status.busy": "2023-03-24T10:15:44.691724Z",
     "iopub.status.idle": "2023-03-24T10:15:44.791992Z",
     "shell.execute_reply": "2023-03-24T10:15:44.791007Z"
    },
    "papermill": {
     "duration": 0.121994,
     "end_time": "2023-03-24T10:15:44.794629",
     "exception": false,
     "start_time": "2023-03-24T10:15:44.672635",
     "status": "completed"
    },
    "tags": []
   },
   "outputs": [],
   "source": [
    "X_dtrain_normalized = X_dtrain / 255.0\n",
    "dtest_normalized = dtest / 255.0"
   ]
  },
  {
   "cell_type": "code",
   "execution_count": 15,
   "id": "2c7f0e39",
   "metadata": {
    "execution": {
     "iopub.execute_input": "2023-03-24T10:15:44.831801Z",
     "iopub.status.busy": "2023-03-24T10:15:44.831344Z",
     "iopub.status.idle": "2023-03-24T10:15:44.836724Z",
     "shell.execute_reply": "2023-03-24T10:15:44.835734Z"
    },
    "papermill": {
     "duration": 0.026533,
     "end_time": "2023-03-24T10:15:44.838853",
     "exception": false,
     "start_time": "2023-03-24T10:15:44.812320",
     "status": "completed"
    },
    "tags": []
   },
   "outputs": [],
   "source": [
    "# Reshape image in 3 dimensions (height = 28px, width = 28px , canal = 1)\n",
    "X_train_matrix = X_dtrain_normalized.values.reshape(-1,28,28,1)\n",
    "dtest_matrix = dtest_normalized.values.reshape(-1,28,28,1)"
   ]
  },
  {
   "cell_type": "code",
   "execution_count": 16,
   "id": "220a7b8c",
   "metadata": {
    "execution": {
     "iopub.execute_input": "2023-03-24T10:15:44.877585Z",
     "iopub.status.busy": "2023-03-24T10:15:44.877092Z",
     "iopub.status.idle": "2023-03-24T10:15:44.947807Z",
     "shell.execute_reply": "2023-03-24T10:15:44.946631Z"
    },
    "papermill": {
     "duration": 0.093739,
     "end_time": "2023-03-24T10:15:44.950716",
     "exception": false,
     "start_time": "2023-03-24T10:15:44.856977",
     "status": "completed"
    },
    "tags": []
   },
   "outputs": [],
   "source": [
    "from sklearn.model_selection import train_test_split"
   ]
  },
  {
   "cell_type": "code",
   "execution_count": 17,
   "id": "13f13002",
   "metadata": {
    "execution": {
     "iopub.execute_input": "2023-03-24T10:15:44.988396Z",
     "iopub.status.busy": "2023-03-24T10:15:44.987930Z",
     "iopub.status.idle": "2023-03-24T10:15:45.814018Z",
     "shell.execute_reply": "2023-03-24T10:15:45.812852Z"
    },
    "papermill": {
     "duration": 0.848458,
     "end_time": "2023-03-24T10:15:45.816950",
     "exception": false,
     "start_time": "2023-03-24T10:15:44.968492",
     "status": "completed"
    },
    "tags": []
   },
   "outputs": [],
   "source": [
    "# Split the train and the validation set for the fitting\n",
    "X_train0, X_val0, Y_train0, Y_val0 = train_test_split(X_train_matrix, Y_train.values, test_size = 0.1, random_state=2)\n",
    "X_train1, X_val1, Y_train1, Y_val1 = train_test_split(X_dtrain_normalized.values, Y_train.values, test_size = 0.1, random_state=2)"
   ]
  },
  {
   "cell_type": "code",
   "execution_count": 18,
   "id": "5ca4606b",
   "metadata": {
    "execution": {
     "iopub.execute_input": "2023-03-24T10:15:45.854778Z",
     "iopub.status.busy": "2023-03-24T10:15:45.854013Z",
     "iopub.status.idle": "2023-03-24T10:15:46.118630Z",
     "shell.execute_reply": "2023-03-24T10:15:46.117235Z"
    },
    "papermill": {
     "duration": 0.286549,
     "end_time": "2023-03-24T10:15:46.121527",
     "exception": false,
     "start_time": "2023-03-24T10:15:45.834978",
     "status": "completed"
    },
    "tags": []
   },
   "outputs": [
    {
     "data": {
      "text/plain": [
       "<matplotlib.image.AxesImage at 0x7f382c32db90>"
      ]
     },
     "execution_count": 18,
     "metadata": {},
     "output_type": "execute_result"
    },
    {
     "data": {
      "image/png": "[encoded data removed]",
      "text/plain": [
       "<Figure size 640x480 with 1 Axes>"
      ]
     },
     "metadata": {},
     "output_type": "display_data"
    }
   ],
   "source": [
    "plt.imshow(X_train0[2][:,:,0])"
   ]
  },
  {
   "cell_type": "code",
   "execution_count": 19,
   "id": "8351f5b9",
   "metadata": {
    "execution": {
     "iopub.execute_input": "2023-03-24T10:15:46.159949Z",
     "iopub.status.busy": "2023-03-24T10:15:46.159512Z",
     "iopub.status.idle": "2023-03-24T10:15:46.167017Z",
     "shell.execute_reply": "2023-03-24T10:15:46.165427Z"
    },
    "papermill": {
     "duration": 0.029532,
     "end_time": "2023-03-24T10:15:46.169554",
     "exception": false,
     "start_time": "2023-03-24T10:15:46.140022",
     "status": "completed"
    },
    "tags": []
   },
   "outputs": [
    {
     "data": {
      "text/plain": [
       "(37800, 784)"
      ]
     },
     "execution_count": 19,
     "metadata": {},
     "output_type": "execute_result"
    }
   ],
   "source": [
    "X_train1.shape"
   ]
  },
  {
   "cell_type": "markdown",
   "id": "69f71928",
   "metadata": {
    "papermill": {
     "duration": 0.018137,
     "end_time": "2023-03-24T10:15:46.206720",
     "exception": false,
     "start_time": "2023-03-24T10:15:46.188583",
     "status": "completed"
    },
    "tags": []
   },
   "source": [
    "## 3. Building & Training the Models <a class=\"anchor\" id=\"Building_the_Models\"></a>"
   ]
  },
  {
   "cell_type": "code",
   "execution_count": 20,
   "id": "ce13955f",
   "metadata": {
    "execution": {
     "iopub.execute_input": "2023-03-24T10:15:46.247410Z",
     "iopub.status.busy": "2023-03-24T10:15:46.246957Z",
     "iopub.status.idle": "2023-03-24T10:15:55.307488Z",
     "shell.execute_reply": "2023-03-24T10:15:55.305800Z"
    },
    "papermill": {
     "duration": 9.084847,
     "end_time": "2023-03-24T10:15:55.310708",
     "exception": false,
     "start_time": "2023-03-24T10:15:46.225861",
     "status": "completed"
    },
    "tags": []
   },
   "outputs": [],
   "source": [
    "import tensorflow as tf\n",
    "from tensorflow.keras.models import Sequential\n",
    "from tensorflow.keras.layers import Input, Reshape, Flatten\n",
    "from tensorflow.keras.activations import linear, relu, sigmoid"
   ]
  },
  {
   "cell_type": "markdown",
   "id": "db8c8e47",
   "metadata": {
    "papermill": {
     "duration": 0.017992,
     "end_time": "2023-03-24T10:15:55.347624",
     "exception": false,
     "start_time": "2023-03-24T10:15:55.329632",
     "status": "completed"
    },
    "tags": []
   },
   "source": [
    "### 3.1. Simple model with data in array"
   ]
  },
  {
   "cell_type": "code",
   "execution_count": 21,
   "id": "24e35a52",
   "metadata": {
    "execution": {
     "iopub.execute_input": "2023-03-24T10:15:55.386270Z",
     "iopub.status.busy": "2023-03-24T10:15:55.385423Z",
     "iopub.status.idle": "2023-03-24T10:15:55.601101Z",
     "shell.execute_reply": "2023-03-24T10:15:55.599896Z"
    },
    "papermill": {
     "duration": 0.241686,
     "end_time": "2023-03-24T10:15:55.607264",
     "exception": false,
     "start_time": "2023-03-24T10:15:55.365578",
     "status": "completed"
    },
    "tags": []
   },
   "outputs": [
    {
     "name": "stdout",
     "output_type": "stream",
     "text": [
      "Model: \"model\"\n",
      "_________________________________________________________________\n",
      " Layer (type)                Output Shape              Param #   \n",
      "=================================================================\n",
      " L1 (Dense)                  (None, 256)               200960    \n",
      "                                                                 \n",
      " L2 (Dense)                  (None, 15)                3855      \n",
      "                                                                 \n",
      " L3 (Dense)                  (None, 10)                160       \n",
      "                                                                 \n",
      "=================================================================\n",
      "Total params: 204,975\n",
      "Trainable params: 204,975\n",
      "Non-trainable params: 0\n",
      "_________________________________________________________________\n"
     ]
    }
   ],
   "source": [
    "tf.random.set_seed(1234) # for consistent results\n",
    "simplemodel = Sequential(\n",
    "    [        \n",
    "        tf.keras.Input(shape=(784,)),     # This specifies the shape our training set elements\n",
    "        tf.keras.layers.Dense(256, activation='relu', name = \"L1\"), #  \n",
    "        tf.keras.layers.Dense(15, activation='relu',  name = \"L2\"), #   \n",
    "        tf.keras.layers.Dense(10, activation='softmax', name = \"L3\"),  #  \n",
    "    ], name = \"model\" \n",
    ")\n",
    "simplemodel.summary()"
   ]
  },
  {
   "cell_type": "code",
   "execution_count": 22,
   "id": "2eb61a45",
   "metadata": {
    "execution": {
     "iopub.execute_input": "2023-03-24T10:15:55.647592Z",
     "iopub.status.busy": "2023-03-24T10:15:55.647127Z",
     "iopub.status.idle": "2023-03-24T10:15:55.878007Z",
     "shell.execute_reply": "2023-03-24T10:15:55.876675Z"
    },
    "papermill": {
     "duration": 0.254812,
     "end_time": "2023-03-24T10:15:55.881043",
     "exception": false,
     "start_time": "2023-03-24T10:15:55.626231",
     "status": "completed"
    },
    "tags": []
   },
   "outputs": [],
   "source": [
    "simplemodel.compile(\n",
    "    loss='categorical_crossentropy', \n",
    "    optimizer=tf.keras.optimizers.Adam(learning_rate=0.001),\n",
    "     metrics=[\"accuracy\"]\n",
    ")\n",
    "# from_logits=True creates a softmax function and .Adam chooses the Adaptive Moment optimizer.\n",
    "# I use 'categorical_crossentropy' instead of sparse categorical_crossentropy because we have onehotencoded the data\n",
    "# metrics=['accuracy'] makes the model calculate its own accuracy automatically (Stored in .history)\n",
    "simplemodeldataaug = simplemodel"
   ]
  },
  {
   "cell_type": "code",
   "execution_count": 23,
   "id": "49641759",
   "metadata": {
    "execution": {
     "iopub.execute_input": "2023-03-24T10:15:55.921234Z",
     "iopub.status.busy": "2023-03-24T10:15:55.920782Z",
     "iopub.status.idle": "2023-03-24T10:15:55.928330Z",
     "shell.execute_reply": "2023-03-24T10:15:55.927082Z"
    },
    "papermill": {
     "duration": 0.03077,
     "end_time": "2023-03-24T10:15:55.930948",
     "exception": false,
     "start_time": "2023-03-24T10:15:55.900178",
     "status": "completed"
    },
    "tags": []
   },
   "outputs": [
    {
     "data": {
      "text/plain": [
       "(37800, 10)"
      ]
     },
     "execution_count": 23,
     "metadata": {},
     "output_type": "execute_result"
    }
   ],
   "source": [
    "Y_train1.shape"
   ]
  },
  {
   "cell_type": "code",
   "execution_count": 24,
   "id": "0c8af3b8",
   "metadata": {
    "execution": {
     "iopub.execute_input": "2023-03-24T10:15:55.971136Z",
     "iopub.status.busy": "2023-03-24T10:15:55.970719Z",
     "iopub.status.idle": "2023-03-24T10:17:45.733900Z",
     "shell.execute_reply": "2023-03-24T10:17:45.731996Z"
    },
    "papermill": {
     "duration": 109.787193,
     "end_time": "2023-03-24T10:17:45.737273",
     "exception": false,
     "start_time": "2023-03-24T10:15:55.950080",
     "status": "completed"
    },
    "tags": []
   },
   "outputs": [
    {
     "name": "stdout",
     "output_type": "stream",
     "text": [
      "Epoch 1/20\n",
      "1182/1182 [==============================] - 6s 5ms/step - loss: 0.3121 - accuracy: 0.9084 - val_loss: 0.1605 - val_accuracy: 0.9529\n",
      "Epoch 2/20\n",
      "1182/1182 [==============================] - 5s 5ms/step - loss: 0.1244 - accuracy: 0.9624 - val_loss: 0.1242 - val_accuracy: 0.9648\n",
      "Epoch 3/20\n",
      "1182/1182 [==============================] - 5s 4ms/step - loss: 0.0835 - accuracy: 0.9742 - val_loss: 0.1078 - val_accuracy: 0.9662\n",
      "Epoch 4/20\n",
      "1182/1182 [==============================] - 5s 5ms/step - loss: 0.0603 - accuracy: 0.9816 - val_loss: 0.1018 - val_accuracy: 0.9679\n",
      "Epoch 5/20\n",
      "1182/1182 [==============================] - 5s 4ms/step - loss: 0.0454 - accuracy: 0.9854 - val_loss: 0.1194 - val_accuracy: 0.9679\n",
      "Epoch 6/20\n",
      "1182/1182 [==============================] - 5s 5ms/step - loss: 0.0324 - accuracy: 0.9903 - val_loss: 0.0910 - val_accuracy: 0.9724\n",
      "Epoch 7/20\n",
      "1182/1182 [==============================] - 5s 5ms/step - loss: 0.0258 - accuracy: 0.9917 - val_loss: 0.0904 - val_accuracy: 0.9726\n",
      "Epoch 8/20\n",
      "1182/1182 [==============================] - 6s 5ms/step - loss: 0.0218 - accuracy: 0.9928 - val_loss: 0.1044 - val_accuracy: 0.9736\n",
      "Epoch 9/20\n",
      "1182/1182 [==============================] - 5s 5ms/step - loss: 0.0188 - accuracy: 0.9939 - val_loss: 0.1256 - val_accuracy: 0.9690\n",
      "Epoch 10/20\n",
      "1182/1182 [==============================] - 6s 5ms/step - loss: 0.0151 - accuracy: 0.9954 - val_loss: 0.0995 - val_accuracy: 0.9762\n",
      "Epoch 11/20\n",
      "1182/1182 [==============================] - 5s 4ms/step - loss: 0.0143 - accuracy: 0.9954 - val_loss: 0.0931 - val_accuracy: 0.9750\n",
      "Epoch 12/20\n",
      "1182/1182 [==============================] - 6s 5ms/step - loss: 0.0121 - accuracy: 0.9960 - val_loss: 0.0950 - val_accuracy: 0.9788\n",
      "Epoch 13/20\n",
      "1182/1182 [==============================] - 6s 5ms/step - loss: 0.0094 - accuracy: 0.9968 - val_loss: 0.1167 - val_accuracy: 0.9731\n",
      "Epoch 14/20\n",
      "1182/1182 [==============================] - 6s 5ms/step - loss: 0.0108 - accuracy: 0.9965 - val_loss: 0.1061 - val_accuracy: 0.9783\n",
      "Epoch 15/20\n",
      "1182/1182 [==============================] - 6s 5ms/step - loss: 0.0103 - accuracy: 0.9965 - val_loss: 0.1308 - val_accuracy: 0.9729\n",
      "Epoch 16/20\n",
      "1182/1182 [==============================] - 6s 5ms/step - loss: 0.0095 - accuracy: 0.9969 - val_loss: 0.1215 - val_accuracy: 0.9740\n",
      "Epoch 17/20\n",
      "1182/1182 [==============================] - 5s 5ms/step - loss: 0.0073 - accuracy: 0.9973 - val_loss: 0.1264 - val_accuracy: 0.9776\n",
      "Epoch 18/20\n",
      "1182/1182 [==============================] - 5s 4ms/step - loss: 0.0071 - accuracy: 0.9978 - val_loss: 0.1336 - val_accuracy: 0.9757\n",
      "Epoch 19/20\n",
      "1182/1182 [==============================] - 5s 4ms/step - loss: 0.0100 - accuracy: 0.9966 - val_loss: 0.1159 - val_accuracy: 0.9779\n",
      "Epoch 20/20\n",
      "1182/1182 [==============================] - 5s 4ms/step - loss: 0.0071 - accuracy: 0.9978 - val_loss: 0.1295 - val_accuracy: 0.9760\n"
     ]
    }
   ],
   "source": [
    "simple = simplemodel.fit(X_train1, Y_train1, validation_data = (X_val1,Y_val1), epochs = 20)"
   ]
  },
  {
   "cell_type": "markdown",
   "id": "ea0096d4",
   "metadata": {
    "papermill": {
     "duration": 0.146289,
     "end_time": "2023-03-24T10:17:46.029432",
     "exception": false,
     "start_time": "2023-03-24T10:17:45.883143",
     "status": "completed"
    },
    "tags": []
   },
   "source": [
    "### 3.2. Simple model with data in matrix"
   ]
  },
  {
   "cell_type": "code",
   "execution_count": 25,
   "id": "4c08ce92",
   "metadata": {
    "execution": {
     "iopub.execute_input": "2023-03-24T10:17:46.352138Z",
     "iopub.status.busy": "2023-03-24T10:17:46.351212Z",
     "iopub.status.idle": "2023-03-24T10:17:46.459692Z",
     "shell.execute_reply": "2023-03-24T10:17:46.458322Z"
    },
    "papermill": {
     "duration": 0.272091,
     "end_time": "2023-03-24T10:17:46.464515",
     "exception": false,
     "start_time": "2023-03-24T10:17:46.192424",
     "status": "completed"
    },
    "tags": []
   },
   "outputs": [
    {
     "name": "stdout",
     "output_type": "stream",
     "text": [
      "Model: \"model\"\n",
      "_________________________________________________________________\n",
      " Layer (type)                Output Shape              Param #   \n",
      "=================================================================\n",
      " flatten (Flatten)           (None, 784)               0         \n",
      "                                                                 \n",
      " L1 (Dense)                  (None, 256)               200960    \n",
      "                                                                 \n",
      " L2 (Dense)                  (None, 15)                3855      \n",
      "                                                                 \n",
      " L3 (Dense)                  (None, 10)                160       \n",
      "                                                                 \n",
      "=================================================================\n",
      "Total params: 204,975\n",
      "Trainable params: 204,975\n",
      "Non-trainable params: 0\n",
      "_________________________________________________________________\n"
     ]
    }
   ],
   "source": [
    "tf.random.set_seed(1234) # for consistent results\n",
    "matrixmodel = Sequential(\n",
    "    [        \n",
    "        tf.keras.Input(shape=(28,28)),     # This specifies the shape our training set elements\n",
    "        Flatten(),\n",
    "        tf.keras.layers.Dense(256, activation='relu', name = \"L1\"), #  \n",
    "        tf.keras.layers.Dense(15, activation='relu',  name = \"L2\"), #   \n",
    "        tf.keras.layers.Dense(10, activation='softmax', name = \"L3\"),  #  \n",
    "    ], name = \"model\" \n",
    ")\n",
    "matrixmodel.summary()"
   ]
  },
  {
   "cell_type": "code",
   "execution_count": 26,
   "id": "45fd51b6",
   "metadata": {
    "execution": {
     "iopub.execute_input": "2023-03-24T10:17:46.840854Z",
     "iopub.status.busy": "2023-03-24T10:17:46.840340Z",
     "iopub.status.idle": "2023-03-24T10:17:46.857598Z",
     "shell.execute_reply": "2023-03-24T10:17:46.856261Z"
    },
    "papermill": {
     "duration": 0.248705,
     "end_time": "2023-03-24T10:17:46.860664",
     "exception": false,
     "start_time": "2023-03-24T10:17:46.611959",
     "status": "completed"
    },
    "tags": []
   },
   "outputs": [],
   "source": [
    "matrixmodel.compile(\n",
    "    loss='categorical_crossentropy', \n",
    "    optimizer=tf.keras.optimizers.Adam(learning_rate=0.001),\n",
    "     metrics=[\"accuracy\"]\n",
    ")\n",
    "# from_logits=True creates a softmax function and .Adam chooses the Adaptive Moment optimizer.\n",
    "# I use 'categorical_crossentropy' instead of sparse categorical_crossentropy because we have onehotencoded the data\n",
    "matrixmodeldataaug = matrixmodel"
   ]
  },
  {
   "cell_type": "code",
   "execution_count": 27,
   "id": "d0a90775",
   "metadata": {
    "execution": {
     "iopub.execute_input": "2023-03-24T10:17:47.159903Z",
     "iopub.status.busy": "2023-03-24T10:17:47.159216Z",
     "iopub.status.idle": "2023-03-24T10:19:37.060971Z",
     "shell.execute_reply": "2023-03-24T10:19:37.059479Z"
    },
    "papermill": {
     "duration": 110.054504,
     "end_time": "2023-03-24T10:19:37.063661",
     "exception": false,
     "start_time": "2023-03-24T10:17:47.009157",
     "status": "completed"
    },
    "tags": []
   },
   "outputs": [
    {
     "name": "stdout",
     "output_type": "stream",
     "text": [
      "Epoch 1/20\n",
      "1182/1182 [==============================] - 6s 4ms/step - loss: 0.3133 - accuracy: 0.9080 - val_loss: 0.1644 - val_accuracy: 0.9521\n",
      "Epoch 2/20\n",
      "1182/1182 [==============================] - 5s 4ms/step - loss: 0.1214 - accuracy: 0.9637 - val_loss: 0.1225 - val_accuracy: 0.9650\n",
      "Epoch 3/20\n",
      "1182/1182 [==============================] - 5s 5ms/step - loss: 0.0800 - accuracy: 0.9754 - val_loss: 0.1055 - val_accuracy: 0.9698\n",
      "Epoch 4/20\n",
      "1182/1182 [==============================] - 6s 5ms/step - loss: 0.0580 - accuracy: 0.9816 - val_loss: 0.1059 - val_accuracy: 0.9686\n",
      "Epoch 5/20\n",
      "1182/1182 [==============================] - 6s 5ms/step - loss: 0.0437 - accuracy: 0.9863 - val_loss: 0.1043 - val_accuracy: 0.9702\n",
      "Epoch 6/20\n",
      "1182/1182 [==============================] - 5s 5ms/step - loss: 0.0323 - accuracy: 0.9898 - val_loss: 0.0985 - val_accuracy: 0.9721\n",
      "Epoch 7/20\n",
      "1182/1182 [==============================] - 5s 5ms/step - loss: 0.0266 - accuracy: 0.9919 - val_loss: 0.0813 - val_accuracy: 0.9786\n",
      "Epoch 8/20\n",
      "1182/1182 [==============================] - 5s 5ms/step - loss: 0.0202 - accuracy: 0.9936 - val_loss: 0.1190 - val_accuracy: 0.9714\n",
      "Epoch 9/20\n",
      "1182/1182 [==============================] - 5s 5ms/step - loss: 0.0194 - accuracy: 0.9935 - val_loss: 0.0946 - val_accuracy: 0.9750\n",
      "Epoch 10/20\n",
      "1182/1182 [==============================] - 6s 5ms/step - loss: 0.0156 - accuracy: 0.9950 - val_loss: 0.0865 - val_accuracy: 0.9760\n",
      "Epoch 11/20\n",
      "1182/1182 [==============================] - 5s 5ms/step - loss: 0.0128 - accuracy: 0.9960 - val_loss: 0.1084 - val_accuracy: 0.9738\n",
      "Epoch 12/20\n",
      "1182/1182 [==============================] - 5s 5ms/step - loss: 0.0116 - accuracy: 0.9962 - val_loss: 0.0939 - val_accuracy: 0.9781\n",
      "Epoch 13/20\n",
      "1182/1182 [==============================] - 5s 5ms/step - loss: 0.0119 - accuracy: 0.9956 - val_loss: 0.1032 - val_accuracy: 0.9764\n",
      "Epoch 14/20\n",
      "1182/1182 [==============================] - 6s 5ms/step - loss: 0.0091 - accuracy: 0.9973 - val_loss: 0.1114 - val_accuracy: 0.9748\n",
      "Epoch 15/20\n",
      "1182/1182 [==============================] - 5s 5ms/step - loss: 0.0086 - accuracy: 0.9971 - val_loss: 0.1184 - val_accuracy: 0.9738\n",
      "Epoch 16/20\n",
      "1182/1182 [==============================] - 6s 5ms/step - loss: 0.0104 - accuracy: 0.9968 - val_loss: 0.1069 - val_accuracy: 0.9781\n",
      "Epoch 17/20\n",
      "1182/1182 [==============================] - 5s 5ms/step - loss: 0.0089 - accuracy: 0.9969 - val_loss: 0.1303 - val_accuracy: 0.9733\n",
      "Epoch 18/20\n",
      "1182/1182 [==============================] - 5s 5ms/step - loss: 0.0079 - accuracy: 0.9976 - val_loss: 0.1284 - val_accuracy: 0.9752\n",
      "Epoch 19/20\n",
      "1182/1182 [==============================] - 5s 5ms/step - loss: 0.0053 - accuracy: 0.9982 - val_loss: 0.1366 - val_accuracy: 0.9750\n",
      "Epoch 20/20\n",
      "1182/1182 [==============================] - 5s 4ms/step - loss: 0.0105 - accuracy: 0.9963 - val_loss: 0.1205 - val_accuracy: 0.9776\n"
     ]
    }
   ],
   "source": [
    "matrix = matrixmodel.fit(X_train0, Y_train0, validation_data = (X_val0,Y_val0), epochs = 20)"
   ]
  },
  {
   "cell_type": "markdown",
   "id": "3855ea09",
   "metadata": {
    "papermill": {
     "duration": 0.345866,
     "end_time": "2023-03-24T10:19:37.690632",
     "exception": false,
     "start_time": "2023-03-24T10:19:37.344766",
     "status": "completed"
    },
    "tags": []
   },
   "source": [
    "### 3.3. Convolutional model with data in matrix"
   ]
  },
  {
   "cell_type": "code",
   "execution_count": 28,
   "id": "8410c7d7",
   "metadata": {
    "execution": {
     "iopub.execute_input": "2023-03-24T10:19:38.243974Z",
     "iopub.status.busy": "2023-03-24T10:19:38.243052Z",
     "iopub.status.idle": "2023-03-24T10:19:38.346785Z",
     "shell.execute_reply": "2023-03-24T10:19:38.344933Z"
    },
    "papermill": {
     "duration": 0.384964,
     "end_time": "2023-03-24T10:19:38.349796",
     "exception": false,
     "start_time": "2023-03-24T10:19:37.964832",
     "status": "completed"
    },
    "tags": []
   },
   "outputs": [
    {
     "name": "stdout",
     "output_type": "stream",
     "text": [
      "Model: \"sequential\"\n",
      "_________________________________________________________________\n",
      " Layer (type)                Output Shape              Param #   \n",
      "=================================================================\n",
      " conv2d (Conv2D)             (None, 28, 28, 32)        832       \n",
      "                                                                 \n",
      " max_pooling2d (MaxPooling2D  (None, 14, 14, 32)       0         \n",
      " )                                                               \n",
      "                                                                 \n",
      " flatten_1 (Flatten)         (None, 6272)              0         \n",
      "                                                                 \n",
      " dense (Dense)               (None, 128)               802944    \n",
      "                                                                 \n",
      " L3 (Dense)                  (None, 10)                1290      \n",
      "                                                                 \n",
      "=================================================================\n",
      "Total params: 805,066\n",
      "Trainable params: 805,066\n",
      "Non-trainable params: 0\n",
      "_________________________________________________________________\n"
     ]
    }
   ],
   "source": [
    "\n",
    "convmodel = Sequential([\n",
    "  tf.keras.Input(shape=(28,28,1)),\n",
    "  tf.keras.layers.Conv2D(filters = 32, kernel_size = (5,5), padding='same', activation='relu'),\n",
    "  tf.keras.layers.MaxPooling2D(pool_size = (2,2)),\n",
    "  Flatten(),\n",
    "  tf.keras.layers.Dense(128, activation='relu'),\n",
    "  tf.keras.layers.Dense(10, activation='softmax', name = \"L3\")\n",
    "])\n",
    "convmodel.summary()"
   ]
  },
  {
   "cell_type": "code",
   "execution_count": 29,
   "id": "8e39f05f",
   "metadata": {
    "execution": {
     "iopub.execute_input": "2023-03-24T10:19:38.911942Z",
     "iopub.status.busy": "2023-03-24T10:19:38.911524Z",
     "iopub.status.idle": "2023-03-24T10:19:38.926920Z",
     "shell.execute_reply": "2023-03-24T10:19:38.925477Z"
    },
    "papermill": {
     "duration": 0.299893,
     "end_time": "2023-03-24T10:19:38.929788",
     "exception": false,
     "start_time": "2023-03-24T10:19:38.629895",
     "status": "completed"
    },
    "tags": []
   },
   "outputs": [],
   "source": [
    "convmodel.compile(\n",
    "    loss='categorical_crossentropy', \n",
    "    optimizer=tf.keras.optimizers.Adam(learning_rate=0.001),\n",
    "     metrics=[\"accuracy\"]\n",
    ")\n",
    "convmodeldataaug = convmodel"
   ]
  },
  {
   "cell_type": "code",
   "execution_count": 30,
   "id": "c95a4725",
   "metadata": {
    "execution": {
     "iopub.execute_input": "2023-03-24T10:19:39.488009Z",
     "iopub.status.busy": "2023-03-24T10:19:39.487594Z",
     "iopub.status.idle": "2023-03-24T10:19:39.494351Z",
     "shell.execute_reply": "2023-03-24T10:19:39.492925Z"
    },
    "papermill": {
     "duration": 0.29007,
     "end_time": "2023-03-24T10:19:39.496801",
     "exception": false,
     "start_time": "2023-03-24T10:19:39.206731",
     "status": "completed"
    },
    "tags": []
   },
   "outputs": [
    {
     "name": "stdout",
     "output_type": "stream",
     "text": [
      "(28, 28, 1)\n"
     ]
    }
   ],
   "source": [
    "print(X_train0[0].shape)"
   ]
  },
  {
   "cell_type": "code",
   "execution_count": 31,
   "id": "92a2c826",
   "metadata": {
    "execution": {
     "iopub.execute_input": "2023-03-24T10:19:40.132494Z",
     "iopub.status.busy": "2023-03-24T10:19:40.131956Z",
     "iopub.status.idle": "2023-03-24T10:19:40.139309Z",
     "shell.execute_reply": "2023-03-24T10:19:40.137716Z"
    },
    "papermill": {
     "duration": 0.360986,
     "end_time": "2023-03-24T10:19:40.142104",
     "exception": false,
     "start_time": "2023-03-24T10:19:39.781118",
     "status": "completed"
    },
    "tags": []
   },
   "outputs": [
    {
     "name": "stdout",
     "output_type": "stream",
     "text": [
      "(10,)\n"
     ]
    }
   ],
   "source": [
    "print(Y_train0[0].shape)"
   ]
  },
  {
   "cell_type": "code",
   "execution_count": 32,
   "id": "9eb066bf",
   "metadata": {
    "execution": {
     "iopub.execute_input": "2023-03-24T10:19:40.711406Z",
     "iopub.status.busy": "2023-03-24T10:19:40.710924Z",
     "iopub.status.idle": "2023-03-24T10:27:12.193775Z",
     "shell.execute_reply": "2023-03-24T10:27:12.189783Z"
    },
    "papermill": {
     "duration": 451.774007,
     "end_time": "2023-03-24T10:27:12.196735",
     "exception": false,
     "start_time": "2023-03-24T10:19:40.422728",
     "status": "completed"
    },
    "tags": []
   },
   "outputs": [
    {
     "name": "stdout",
     "output_type": "stream",
     "text": [
      "Epoch 1/20\n",
      "1182/1182 [==============================] - 24s 20ms/step - loss: 0.1734 - accuracy: 0.9485 - val_loss: 0.0726 - val_accuracy: 0.9774\n",
      "Epoch 2/20\n",
      "1182/1182 [==============================] - 23s 19ms/step - loss: 0.0550 - accuracy: 0.9832 - val_loss: 0.0698 - val_accuracy: 0.9760\n",
      "Epoch 3/20\n",
      "1182/1182 [==============================] - 23s 19ms/step - loss: 0.0344 - accuracy: 0.9893 - val_loss: 0.0573 - val_accuracy: 0.9814\n",
      "Epoch 4/20\n",
      "1182/1182 [==============================] - 22s 18ms/step - loss: 0.0234 - accuracy: 0.9930 - val_loss: 0.0592 - val_accuracy: 0.9840\n",
      "Epoch 5/20\n",
      "1182/1182 [==============================] - 22s 19ms/step - loss: 0.0170 - accuracy: 0.9945 - val_loss: 0.0508 - val_accuracy: 0.9862\n",
      "Epoch 6/20\n",
      "1182/1182 [==============================] - 23s 19ms/step - loss: 0.0121 - accuracy: 0.9960 - val_loss: 0.0544 - val_accuracy: 0.9852\n",
      "Epoch 7/20\n",
      "1182/1182 [==============================] - 22s 19ms/step - loss: 0.0105 - accuracy: 0.9965 - val_loss: 0.0526 - val_accuracy: 0.9871\n",
      "Epoch 8/20\n",
      "1182/1182 [==============================] - 22s 19ms/step - loss: 0.0064 - accuracy: 0.9978 - val_loss: 0.0633 - val_accuracy: 0.9845\n",
      "Epoch 9/20\n",
      "1182/1182 [==============================] - 22s 19ms/step - loss: 0.0077 - accuracy: 0.9970 - val_loss: 0.0601 - val_accuracy: 0.9864\n",
      "Epoch 10/20\n",
      "1182/1182 [==============================] - 22s 19ms/step - loss: 0.0068 - accuracy: 0.9980 - val_loss: 0.0454 - val_accuracy: 0.9888\n",
      "Epoch 11/20\n",
      "1182/1182 [==============================] - 23s 19ms/step - loss: 0.0041 - accuracy: 0.9986 - val_loss: 0.0520 - val_accuracy: 0.9888\n",
      "Epoch 12/20\n",
      "1182/1182 [==============================] - 22s 19ms/step - loss: 0.0063 - accuracy: 0.9978 - val_loss: 0.0630 - val_accuracy: 0.9871\n",
      "Epoch 13/20\n",
      "1182/1182 [==============================] - 23s 19ms/step - loss: 0.0033 - accuracy: 0.9990 - val_loss: 0.0504 - val_accuracy: 0.9905\n",
      "Epoch 14/20\n",
      "1182/1182 [==============================] - 23s 19ms/step - loss: 0.0043 - accuracy: 0.9986 - val_loss: 0.0645 - val_accuracy: 0.9888\n",
      "Epoch 15/20\n",
      "1182/1182 [==============================] - 23s 19ms/step - loss: 0.0049 - accuracy: 0.9986 - val_loss: 0.0705 - val_accuracy: 0.9874\n",
      "Epoch 16/20\n",
      "1182/1182 [==============================] - 23s 19ms/step - loss: 0.0015 - accuracy: 0.9996 - val_loss: 0.0661 - val_accuracy: 0.9879\n",
      "Epoch 17/20\n",
      "1182/1182 [==============================] - 22s 19ms/step - loss: 0.0052 - accuracy: 0.9983 - val_loss: 0.0606 - val_accuracy: 0.9883\n",
      "Epoch 18/20\n",
      "1182/1182 [==============================] - 23s 19ms/step - loss: 0.0033 - accuracy: 0.9990 - val_loss: 0.0659 - val_accuracy: 0.9888\n",
      "Epoch 19/20\n",
      "1182/1182 [==============================] - 22s 19ms/step - loss: 0.0030 - accuracy: 0.9989 - val_loss: 0.0726 - val_accuracy: 0.9881\n",
      "Epoch 20/20\n",
      "1182/1182 [==============================] - 22s 19ms/step - loss: 0.0017 - accuracy: 0.9997 - val_loss: 0.0602 - val_accuracy: 0.9898\n"
     ]
    }
   ],
   "source": [
    "conv = convmodel.fit(X_train0, Y_train0, validation_data = (X_val0,Y_val0), epochs = 20)"
   ]
  },
  {
   "cell_type": "markdown",
   "id": "494efc07",
   "metadata": {
    "papermill": {
     "duration": 0.80502,
     "end_time": "2023-03-24T10:27:13.867725",
     "exception": false,
     "start_time": "2023-03-24T10:27:13.062705",
     "status": "completed"
    },
    "tags": []
   },
   "source": [
    "## 4. Training the Models using Data Augmentation <a class=\"anchor\" id=\"Training_the_Models_using_Data_Augmentation\"></a>\n",
    "\n",
    "Data augmentation is a method to increase the traing set size, it makes the model be able to adapt better for different types of inputs. We can do data augmentation here since one can edit images (rotate, filter,...) in training set to get new images and include them in the training set. "
   ]
  },
  {
   "cell_type": "code",
   "execution_count": 33,
   "id": "5a08c5de",
   "metadata": {
    "execution": {
     "iopub.execute_input": "2023-03-24T10:27:15.511965Z",
     "iopub.status.busy": "2023-03-24T10:27:15.510613Z",
     "iopub.status.idle": "2023-03-24T10:27:15.516361Z",
     "shell.execute_reply": "2023-03-24T10:27:15.515505Z"
    },
    "papermill": {
     "duration": 0.862332,
     "end_time": "2023-03-24T10:27:15.518603",
     "exception": false,
     "start_time": "2023-03-24T10:27:14.656271",
     "status": "completed"
    },
    "tags": []
   },
   "outputs": [],
   "source": [
    "from keras.preprocessing.image import ImageDataGenerator\n",
    "from keras.callbacks import ReduceLROnPlateau"
   ]
  },
  {
   "cell_type": "code",
   "execution_count": 34,
   "id": "96a67d53",
   "metadata": {
    "execution": {
     "iopub.execute_input": "2023-03-24T10:27:17.181209Z",
     "iopub.status.busy": "2023-03-24T10:27:17.179459Z",
     "iopub.status.idle": "2023-03-24T10:27:17.281208Z",
     "shell.execute_reply": "2023-03-24T10:27:17.280121Z"
    },
    "papermill": {
     "duration": 0.973325,
     "end_time": "2023-03-24T10:27:17.283906",
     "exception": false,
     "start_time": "2023-03-24T10:27:16.310581",
     "status": "completed"
    },
    "tags": []
   },
   "outputs": [],
   "source": [
    "# With data augmentation to prevent overfitting (accuracy 0.99286)\n",
    "\n",
    "datagen = ImageDataGenerator(\n",
    "        featurewise_center=False,  # set input mean to 0 over the dataset\n",
    "        samplewise_center=False,  # set each sample mean to 0\n",
    "        featurewise_std_normalization=False,  # divide inputs by std of the dataset\n",
    "        samplewise_std_normalization=False,  # divide each input by its std\n",
    "        zca_whitening=False,  # apply ZCA whitening\n",
    "        rotation_range=12,  # randomly rotate images in the range (degrees, 0 to 180)\n",
    "        zoom_range = 0.15, # Randomly zoom image \n",
    "        width_shift_range=0.15,  # randomly shift images horizontally (fraction of total width)\n",
    "        height_shift_range=0.15,  # randomly shift images vertically (fraction of total height)\n",
    "        horizontal_flip=False,  # randomly flip images\n",
    "        vertical_flip=False)  # randomly flip images\n",
    "\n",
    "datagen1 = datagen\n",
    "datagen.fit(X_train0)"
   ]
  },
  {
   "cell_type": "code",
   "execution_count": 35,
   "id": "2fd0a5a8",
   "metadata": {
    "execution": {
     "iopub.execute_input": "2023-03-24T10:27:18.960520Z",
     "iopub.status.busy": "2023-03-24T10:27:18.959707Z",
     "iopub.status.idle": "2023-03-24T10:44:13.432138Z",
     "shell.execute_reply": "2023-03-24T10:44:13.430448Z"
    },
    "papermill": {
     "duration": 1015.356971,
     "end_time": "2023-03-24T10:44:13.435227",
     "exception": false,
     "start_time": "2023-03-24T10:27:18.078256",
     "status": "completed"
    },
    "tags": []
   },
   "outputs": [
    {
     "name": "stdout",
     "output_type": "stream",
     "text": [
      "Epoch 1/20\n"
     ]
    },
    {
     "name": "stderr",
     "output_type": "stream",
     "text": [
      "/opt/conda/lib/python3.7/site-packages/ipykernel_launcher.py:3: UserWarning: `Model.fit_generator` is deprecated and will be removed in a future version. Please use `Model.fit`, which supports generators.\n",
      "  This is separate from the ipykernel package so we can avoid doing imports until\n"
     ]
    },
    {
     "name": "stdout",
     "output_type": "stream",
     "text": [
      "420/420 [==============================] - 14s 31ms/step - loss: 0.8319 - accuracy: 0.7876 - val_loss: 0.1506 - val_accuracy: 0.9564\n",
      "Epoch 2/20\n",
      "420/420 [==============================] - 13s 32ms/step - loss: 0.3942 - accuracy: 0.8821 - val_loss: 0.1298 - val_accuracy: 0.9614\n",
      "Epoch 3/20\n",
      "420/420 [==============================] - 14s 32ms/step - loss: 0.3211 - accuracy: 0.9036 - val_loss: 0.1200 - val_accuracy: 0.9633\n",
      "Epoch 4/20\n",
      "420/420 [==============================] - 13s 31ms/step - loss: 0.2765 - accuracy: 0.9171 - val_loss: 0.1085 - val_accuracy: 0.9686\n",
      "Epoch 5/20\n",
      "420/420 [==============================] - 13s 32ms/step - loss: 0.2522 - accuracy: 0.9248 - val_loss: 0.1219 - val_accuracy: 0.9643\n",
      "Epoch 6/20\n",
      "420/420 [==============================] - 14s 32ms/step - loss: 0.2367 - accuracy: 0.9292 - val_loss: 0.1140 - val_accuracy: 0.9660\n",
      "Epoch 7/20\n",
      "420/420 [==============================] - 13s 32ms/step - loss: 0.2159 - accuracy: 0.9340 - val_loss: 0.1041 - val_accuracy: 0.9679\n",
      "Epoch 8/20\n",
      "420/420 [==============================] - 13s 32ms/step - loss: 0.2067 - accuracy: 0.9376 - val_loss: 0.1013 - val_accuracy: 0.9693\n",
      "Epoch 9/20\n",
      "420/420 [==============================] - 13s 32ms/step - loss: 0.1971 - accuracy: 0.9413 - val_loss: 0.1001 - val_accuracy: 0.9695\n",
      "Epoch 10/20\n",
      "420/420 [==============================] - 13s 31ms/step - loss: 0.1934 - accuracy: 0.9414 - val_loss: 0.1054 - val_accuracy: 0.9679\n",
      "Epoch 11/20\n",
      "420/420 [==============================] - 13s 31ms/step - loss: 0.1879 - accuracy: 0.9412 - val_loss: 0.0949 - val_accuracy: 0.9712\n",
      "Epoch 12/20\n",
      "420/420 [==============================] - 13s 32ms/step - loss: 0.1779 - accuracy: 0.9469 - val_loss: 0.0934 - val_accuracy: 0.9717\n",
      "Epoch 13/20\n",
      "420/420 [==============================] - 13s 31ms/step - loss: 0.1739 - accuracy: 0.9465 - val_loss: 0.0911 - val_accuracy: 0.9733\n",
      "Epoch 14/20\n",
      "420/420 [==============================] - 13s 31ms/step - loss: 0.1655 - accuracy: 0.9499 - val_loss: 0.0876 - val_accuracy: 0.9724\n",
      "Epoch 15/20\n",
      "420/420 [==============================] - 13s 31ms/step - loss: 0.1631 - accuracy: 0.9507 - val_loss: 0.0914 - val_accuracy: 0.9719\n",
      "Epoch 16/20\n",
      "420/420 [==============================] - 13s 31ms/step - loss: 0.1604 - accuracy: 0.9514 - val_loss: 0.0865 - val_accuracy: 0.9738\n",
      "Epoch 17/20\n",
      "420/420 [==============================] - 13s 31ms/step - loss: 0.1557 - accuracy: 0.9525 - val_loss: 0.0785 - val_accuracy: 0.9757\n",
      "Epoch 18/20\n",
      "420/420 [==============================] - 13s 32ms/step - loss: 0.1543 - accuracy: 0.9531 - val_loss: 0.0885 - val_accuracy: 0.9740\n",
      "Epoch 19/20\n",
      "420/420 [==============================] - 14s 32ms/step - loss: 0.1516 - accuracy: 0.9540 - val_loss: 0.0801 - val_accuracy: 0.9738\n",
      "Epoch 20/20\n",
      "420/420 [==============================] - 13s 31ms/step - loss: 0.1470 - accuracy: 0.9552 - val_loss: 0.0811 - val_accuracy: 0.9743\n",
      "Epoch 1/20\n"
     ]
    },
    {
     "name": "stderr",
     "output_type": "stream",
     "text": [
      "/opt/conda/lib/python3.7/site-packages/ipykernel_launcher.py:7: UserWarning: `Model.fit_generator` is deprecated and will be removed in a future version. Please use `Model.fit`, which supports generators.\n",
      "  import sys\n"
     ]
    },
    {
     "name": "stdout",
     "output_type": "stream",
     "text": [
      "420/420 [==============================] - 23s 53ms/step - loss: 0.3485 - accuracy: 0.9028 - val_loss: 0.0720 - val_accuracy: 0.9793\n",
      "Epoch 2/20\n",
      "420/420 [==============================] - 22s 53ms/step - loss: 0.1345 - accuracy: 0.9589 - val_loss: 0.0602 - val_accuracy: 0.9840\n",
      "Epoch 3/20\n",
      "420/420 [==============================] - 22s 51ms/step - loss: 0.1086 - accuracy: 0.9671 - val_loss: 0.0543 - val_accuracy: 0.9850\n",
      "Epoch 4/20\n",
      "420/420 [==============================] - 22s 53ms/step - loss: 0.0963 - accuracy: 0.9710 - val_loss: 0.0524 - val_accuracy: 0.9869\n",
      "Epoch 5/20\n",
      "420/420 [==============================] - 22s 53ms/step - loss: 0.0825 - accuracy: 0.9751 - val_loss: 0.0447 - val_accuracy: 0.9883\n",
      "Epoch 6/20\n",
      "420/420 [==============================] - 23s 54ms/step - loss: 0.0742 - accuracy: 0.9758 - val_loss: 0.0402 - val_accuracy: 0.9867\n",
      "Epoch 7/20\n",
      "420/420 [==============================] - 21s 51ms/step - loss: 0.0700 - accuracy: 0.9780 - val_loss: 0.0452 - val_accuracy: 0.9883\n",
      "Epoch 8/20\n",
      "420/420 [==============================] - 22s 53ms/step - loss: 0.0662 - accuracy: 0.9795 - val_loss: 0.0474 - val_accuracy: 0.9867\n",
      "Epoch 9/20\n",
      "420/420 [==============================] - 22s 52ms/step - loss: 0.0645 - accuracy: 0.9797 - val_loss: 0.0386 - val_accuracy: 0.9898\n",
      "Epoch 10/20\n",
      "420/420 [==============================] - 22s 52ms/step - loss: 0.0608 - accuracy: 0.9804 - val_loss: 0.0448 - val_accuracy: 0.9883\n",
      "Epoch 11/20\n",
      "420/420 [==============================] - 22s 52ms/step - loss: 0.0577 - accuracy: 0.9819 - val_loss: 0.0359 - val_accuracy: 0.9890\n",
      "Epoch 12/20\n",
      "420/420 [==============================] - 22s 51ms/step - loss: 0.0590 - accuracy: 0.9815 - val_loss: 0.0440 - val_accuracy: 0.9883\n",
      "Epoch 13/20\n",
      "420/420 [==============================] - 22s 53ms/step - loss: 0.0546 - accuracy: 0.9832 - val_loss: 0.0407 - val_accuracy: 0.9893\n",
      "Epoch 14/20\n",
      "420/420 [==============================] - 22s 51ms/step - loss: 0.0542 - accuracy: 0.9833 - val_loss: 0.0471 - val_accuracy: 0.9874\n",
      "Epoch 15/20\n",
      "420/420 [==============================] - 22s 52ms/step - loss: 0.0527 - accuracy: 0.9834 - val_loss: 0.0470 - val_accuracy: 0.9898\n",
      "Epoch 16/20\n",
      "420/420 [==============================] - 22s 52ms/step - loss: 0.0495 - accuracy: 0.9839 - val_loss: 0.0417 - val_accuracy: 0.9907\n",
      "Epoch 17/20\n",
      "420/420 [==============================] - 21s 51ms/step - loss: 0.0507 - accuracy: 0.9843 - val_loss: 0.0410 - val_accuracy: 0.9898\n",
      "Epoch 18/20\n",
      "420/420 [==============================] - 22s 51ms/step - loss: 0.0479 - accuracy: 0.9855 - val_loss: 0.0379 - val_accuracy: 0.9898\n",
      "Epoch 19/20\n",
      "420/420 [==============================] - 21s 51ms/step - loss: 0.0449 - accuracy: 0.9866 - val_loss: 0.0484 - val_accuracy: 0.9881\n",
      "Epoch 20/20\n",
      "420/420 [==============================] - 22s 52ms/step - loss: 0.0484 - accuracy: 0.9854 - val_loss: 0.0487 - val_accuracy: 0.9879\n"
     ]
    }
   ],
   "source": [
    "# Fit the models\n",
    "matrixdataaug_hist = matrixmodeldataaug.fit_generator(datagen.flow(X_train0,Y_train0, batch_size=90),\n",
    "                               validation_data = (X_val0,Y_val0), epochs =20,  steps_per_epoch=X_train0.shape[0] // 90\n",
    "                              )\n",
    "convdataaug_hist = convmodeldataaug.fit_generator(datagen.flow(X_train0,Y_train0, batch_size=90),\n",
    "                             validation_data = (X_val0,Y_val0),\n",
    "                              epochs = 20, steps_per_epoch=X_train0.shape[0] // 90\n",
    "                              )"
   ]
  },
  {
   "cell_type": "markdown",
   "id": "67c355d9",
   "metadata": {
    "papermill": {
     "duration": 1.520754,
     "end_time": "2023-03-24T10:44:16.458960",
     "exception": false,
     "start_time": "2023-03-24T10:44:14.938206",
     "status": "completed"
    },
    "tags": []
   },
   "source": [
    "## 5. Evaluation of Models <a class=\"anchor\" id=\"Evaluation_of_Models\"></a>"
   ]
  },
  {
   "cell_type": "markdown",
   "id": "7934154f",
   "metadata": {
    "papermill": {
     "duration": 1.486723,
     "end_time": "2023-03-24T10:44:19.456002",
     "exception": false,
     "start_time": "2023-03-24T10:44:17.969279",
     "status": "completed"
    },
    "tags": []
   },
   "source": [
    "### 5.1. Validation curves"
   ]
  },
  {
   "cell_type": "code",
   "execution_count": 36,
   "id": "9d5c6109",
   "metadata": {
    "execution": {
     "iopub.execute_input": "2023-03-24T10:44:22.392547Z",
     "iopub.status.busy": "2023-03-24T10:44:22.391215Z",
     "iopub.status.idle": "2023-03-24T10:44:22.398113Z",
     "shell.execute_reply": "2023-03-24T10:44:22.396577Z"
    },
    "papermill": {
     "duration": 1.535907,
     "end_time": "2023-03-24T10:44:22.400938",
     "exception": false,
     "start_time": "2023-03-24T10:44:20.865031",
     "status": "completed"
    },
    "tags": []
   },
   "outputs": [
    {
     "name": "stdout",
     "output_type": "stream",
     "text": [
      "dict_keys(['loss', 'accuracy', 'val_loss', 'val_accuracy'])\n"
     ]
    }
   ],
   "source": [
    "history_dict1 = simple.history\n",
    "print(history_dict1.keys())"
   ]
  },
  {
   "cell_type": "code",
   "execution_count": 37,
   "id": "d859d118",
   "metadata": {
    "execution": {
     "iopub.execute_input": "2023-03-24T10:44:25.374530Z",
     "iopub.status.busy": "2023-03-24T10:44:25.373465Z",
     "iopub.status.idle": "2023-03-24T10:44:25.783268Z",
     "shell.execute_reply": "2023-03-24T10:44:25.781853Z"
    },
    "papermill": {
     "duration": 1.893903,
     "end_time": "2023-03-24T10:44:25.785913",
     "exception": false,
     "start_time": "2023-03-24T10:44:23.892010",
     "status": "completed"
    },
    "tags": []
   },
   "outputs": [
    {
     "data": {
      "image/png": "[encoded data removed]",
      "text/plain": [
       "<Figure size 640x480 with 2 Axes>"
      ]
     },
     "metadata": {},
     "output_type": "display_data"
    }
   ],
   "source": [
    "# Plot the loss and accuracy curves for training and validation \n",
    "fig, ax = plt.subplots(2,1)\n",
    "ax[0].plot(simple.history['loss'], color='b', label=\"Training loss\")\n",
    "ax[0].plot(simple.history['val_loss'], color='r', label=\"validation loss\",axes =ax[0])\n",
    "legend = ax[0].legend(loc='best', shadow=True)\n",
    "\n",
    "ax[1].plot(simple.history['accuracy'], color='b', label=\"Training accuracy\")\n",
    "ax[1].plot(simple.history['val_accuracy'], color='r',label=\"Validation accuracy\")\n",
    "legend = ax[1].legend(loc='best', shadow=True)"
   ]
  },
  {
   "cell_type": "code",
   "execution_count": 38,
   "id": "989d0539",
   "metadata": {
    "execution": {
     "iopub.execute_input": "2023-03-24T10:44:28.763132Z",
     "iopub.status.busy": "2023-03-24T10:44:28.762046Z",
     "iopub.status.idle": "2023-03-24T10:44:28.769198Z",
     "shell.execute_reply": "2023-03-24T10:44:28.767119Z"
    },
    "papermill": {
     "duration": 1.496593,
     "end_time": "2023-03-24T10:44:28.771871",
     "exception": false,
     "start_time": "2023-03-24T10:44:27.275278",
     "status": "completed"
    },
    "tags": []
   },
   "outputs": [
    {
     "name": "stdout",
     "output_type": "stream",
     "text": [
      "dict_keys(['loss', 'accuracy', 'val_loss', 'val_accuracy'])\n"
     ]
    }
   ],
   "source": [
    "history_dict0 = matrix.history\n",
    "print(history_dict0.keys())"
   ]
  },
  {
   "cell_type": "code",
   "execution_count": 39,
   "id": "8d6545a4",
   "metadata": {
    "execution": {
     "iopub.execute_input": "2023-03-24T10:44:31.723694Z",
     "iopub.status.busy": "2023-03-24T10:44:31.723229Z",
     "iopub.status.idle": "2023-03-24T10:44:32.145451Z",
     "shell.execute_reply": "2023-03-24T10:44:32.143922Z"
    },
    "papermill": {
     "duration": 1.900898,
     "end_time": "2023-03-24T10:44:32.148477",
     "exception": false,
     "start_time": "2023-03-24T10:44:30.247579",
     "status": "completed"
    },
    "tags": []
   },
   "outputs": [
    {
     "data": {
      "image/png": "[encoded data removed]",
      "text/plain": [
       "<Figure size 640x480 with 2 Axes>"
      ]
     },
     "metadata": {},
     "output_type": "display_data"
    }
   ],
   "source": [
    "# Plot the loss and accuracy curves for training and validation \n",
    "fig, ax = plt.subplots(2,1)\n",
    "ax[0].plot(matrix.history['loss'], color='b', label=\"Training loss\")\n",
    "ax[0].plot(matrix.history['val_loss'], color='r', label=\"validation loss\",axes =ax[0])\n",
    "legend = ax[0].legend(loc='best', shadow=True)\n",
    "\n",
    "ax[1].plot(matrix.history['accuracy'], color='b', label=\"Training accuracy\")\n",
    "ax[1].plot(matrix.history['val_accuracy'], color='r',label=\"Validation accuracy\")\n",
    "legend = ax[1].legend(loc='best', shadow=True)"
   ]
  },
  {
   "cell_type": "code",
   "execution_count": 40,
   "id": "792c40e4",
   "metadata": {
    "execution": {
     "iopub.execute_input": "2023-03-24T10:44:35.134183Z",
     "iopub.status.busy": "2023-03-24T10:44:35.133725Z",
     "iopub.status.idle": "2023-03-24T10:44:35.139160Z",
     "shell.execute_reply": "2023-03-24T10:44:35.138222Z"
    },
    "papermill": {
     "duration": 1.493853,
     "end_time": "2023-03-24T10:44:35.142408",
     "exception": false,
     "start_time": "2023-03-24T10:44:33.648555",
     "status": "completed"
    },
    "tags": []
   },
   "outputs": [
    {
     "name": "stdout",
     "output_type": "stream",
     "text": [
      "dict_keys(['loss', 'accuracy', 'val_loss', 'val_accuracy'])\n"
     ]
    }
   ],
   "source": [
    "history_dictconv = conv.history\n",
    "print(history_dictconv.keys())"
   ]
  },
  {
   "cell_type": "code",
   "execution_count": 41,
   "id": "0106a3fc",
   "metadata": {
    "execution": {
     "iopub.execute_input": "2023-03-24T10:44:38.127881Z",
     "iopub.status.busy": "2023-03-24T10:44:38.127467Z",
     "iopub.status.idle": "2023-03-24T10:44:38.532186Z",
     "shell.execute_reply": "2023-03-24T10:44:38.530860Z"
    },
    "papermill": {
     "duration": 1.907,
     "end_time": "2023-03-24T10:44:38.534909",
     "exception": false,
     "start_time": "2023-03-24T10:44:36.627909",
     "status": "completed"
    },
    "tags": []
   },
   "outputs": [
    {
     "data": {
      "image/png": "[encoded data removed]",
      "text/plain": [
       "<Figure size 640x480 with 2 Axes>"
      ]
     },
     "metadata": {},
     "output_type": "display_data"
    }
   ],
   "source": [
    "# Plot the loss and accuracy curves for training and validation \n",
    "fig, ax = plt.subplots(2,1)\n",
    "ax[0].plot(conv.history['loss'], color='b', label=\"Training loss\")\n",
    "ax[0].plot(conv.history['val_loss'], color='r', label=\"validation loss\",axes =ax[0])\n",
    "legend = ax[0].legend(loc='best', shadow=True)\n",
    "\n",
    "ax[1].plot(conv.history['accuracy'], color='b', label=\"Training accuracy\")\n",
    "ax[1].plot(conv.history['val_accuracy'], color='r',label=\"Validation accuracy\")\n",
    "legend = ax[1].legend(loc='best', shadow=True)"
   ]
  },
  {
   "cell_type": "markdown",
   "id": "d9a0359e",
   "metadata": {
    "papermill": {
     "duration": 1.395255,
     "end_time": "2023-03-24T10:44:41.426772",
     "exception": false,
     "start_time": "2023-03-24T10:44:40.031517",
     "status": "completed"
    },
    "tags": []
   },
   "source": [
    "From the graphs we can observe there is overfitting. We could perform some chages in the training method to prevent this."
   ]
  },
  {
   "cell_type": "markdown",
   "id": "bcae353f",
   "metadata": {
    "papermill": {
     "duration": 1.505235,
     "end_time": "2023-03-24T10:44:44.421730",
     "exception": false,
     "start_time": "2023-03-24T10:44:42.916495",
     "status": "completed"
    },
    "tags": []
   },
   "source": [
    "### 5.2. Confusion Matrices"
   ]
  },
  {
   "cell_type": "code",
   "execution_count": 42,
   "id": "823d77c0",
   "metadata": {
    "execution": {
     "iopub.execute_input": "2023-03-24T10:44:47.446954Z",
     "iopub.status.busy": "2023-03-24T10:44:47.446525Z",
     "iopub.status.idle": "2023-03-24T10:44:47.451657Z",
     "shell.execute_reply": "2023-03-24T10:44:47.450618Z"
    },
    "papermill": {
     "duration": 1.517731,
     "end_time": "2023-03-24T10:44:47.454080",
     "exception": false,
     "start_time": "2023-03-24T10:44:45.936349",
     "status": "completed"
    },
    "tags": []
   },
   "outputs": [],
   "source": [
    "from sklearn.metrics import confusion_matrix\n",
    "import itertools"
   ]
  },
  {
   "cell_type": "code",
   "execution_count": 43,
   "id": "dd3aa848",
   "metadata": {
    "execution": {
     "iopub.execute_input": "2023-03-24T10:44:50.441420Z",
     "iopub.status.busy": "2023-03-24T10:44:50.440998Z",
     "iopub.status.idle": "2023-03-24T10:44:52.048417Z",
     "shell.execute_reply": "2023-03-24T10:44:52.047130Z"
    },
    "papermill": {
     "duration": 3.109399,
     "end_time": "2023-03-24T10:44:52.051207",
     "exception": false,
     "start_time": "2023-03-24T10:44:48.941808",
     "status": "completed"
    },
    "tags": []
   },
   "outputs": [
    {
     "name": "stdout",
     "output_type": "stream",
     "text": [
      "132/132 [==============================] - 0s 2ms/step\n"
     ]
    },
    {
     "data": {
      "image/png": "[encoded data removed]",
      "text/plain": [
       "<Figure size 640x480 with 2 Axes>"
      ]
     },
     "metadata": {},
     "output_type": "display_data"
    }
   ],
   "source": [
    "def plot_confusion_matrix(cm, classes,\n",
    "                          normalize=False,\n",
    "                          title='Confusion matrix',\n",
    "                          cmap=plt.cm.Blues):\n",
    "    \"\"\"\n",
    "    This function prints and plots the confusion matrix.\n",
    "    Normalization can be applied by setting `normalize=True`.\n",
    "    \"\"\"\n",
    "    plt.imshow(cm, interpolation='nearest', cmap=cmap)\n",
    "    plt.title(title)\n",
    "    plt.colorbar()\n",
    "    tick_marks = np.arange(len(classes))\n",
    "    plt.xticks(tick_marks, classes, rotation=45)\n",
    "    plt.yticks(tick_marks, classes)\n",
    "\n",
    "    if normalize:\n",
    "        cm = cm.astype('float') / cm.sum(axis=1)[:, np.newaxis]\n",
    "\n",
    "    thresh = cm.max() / 2.\n",
    "    for i, j in itertools.product(range(cm.shape[0]), range(cm.shape[1])):\n",
    "        plt.text(j, i, cm[i, j],\n",
    "                 horizontalalignment=\"center\",\n",
    "                 color=\"white\" if cm[i, j] > thresh else \"black\")\n",
    "\n",
    "    plt.tight_layout()\n",
    "    plt.ylabel('True label')\n",
    "    plt.xlabel('Predicted label')\n",
    "\n",
    "# Predict the values from the validation dataset\n",
    "Y_pred = simplemodel.predict(X_val1)\n",
    "# Convert predictions classes to one hot vectors \n",
    "Y_pred_classes = np.argmax(Y_pred,axis = 1) \n",
    "# Convert validation observations to one hot vectors\n",
    "Y_true = np.argmax(Y_val1,axis = 1) \n",
    "# compute the confusion matrix\n",
    "confusion_mtx = confusion_matrix(Y_true, Y_pred_classes) \n",
    "# plot the confusion matrix\n",
    "plot_confusion_matrix(confusion_mtx, classes = range(10)) "
   ]
  },
  {
   "cell_type": "code",
   "execution_count": 44,
   "id": "2e0b632b",
   "metadata": {
    "execution": {
     "iopub.execute_input": "2023-03-24T10:44:54.994318Z",
     "iopub.status.busy": "2023-03-24T10:44:54.993890Z",
     "iopub.status.idle": "2023-03-24T10:44:56.237084Z",
     "shell.execute_reply": "2023-03-24T10:44:56.235288Z"
    },
    "papermill": {
     "duration": 2.765386,
     "end_time": "2023-03-24T10:44:56.240189",
     "exception": false,
     "start_time": "2023-03-24T10:44:53.474803",
     "status": "completed"
    },
    "tags": []
   },
   "outputs": [
    {
     "name": "stdout",
     "output_type": "stream",
     "text": [
      "132/132 [==============================] - 0s 2ms/step\n"
     ]
    },
    {
     "data": {
      "image/png": "[encoded data removed]",
      "text/plain": [
       "<Figure size 640x480 with 2 Axes>"
      ]
     },
     "metadata": {},
     "output_type": "display_data"
    }
   ],
   "source": [
    "def plot_confusion_matrix(cm, classes,\n",
    "                          normalize=False,\n",
    "                          title='Confusion matrix',\n",
    "                          cmap=plt.cm.Blues):\n",
    "    \"\"\"\n",
    "    This function prints and plots the confusion matrix.\n",
    "    Normalization can be applied by setting `normalize=True`.\n",
    "    \"\"\"\n",
    "    plt.imshow(cm, interpolation='nearest', cmap=cmap)\n",
    "    plt.title(title)\n",
    "    plt.colorbar()\n",
    "    tick_marks = np.arange(len(classes))\n",
    "    plt.xticks(tick_marks, classes, rotation=45)\n",
    "    plt.yticks(tick_marks, classes)\n",
    "\n",
    "    if normalize:\n",
    "        cm = cm.astype('float') / cm.sum(axis=1)[:, np.newaxis]\n",
    "\n",
    "    thresh = cm.max() / 2.\n",
    "    for i, j in itertools.product(range(cm.shape[0]), range(cm.shape[1])):\n",
    "        plt.text(j, i, cm[i, j],\n",
    "                 horizontalalignment=\"center\",\n",
    "                 color=\"white\" if cm[i, j] > thresh else \"black\")\n",
    "\n",
    "    plt.tight_layout()\n",
    "    plt.ylabel('True label')\n",
    "    plt.xlabel('Predicted label')\n",
    "\n",
    "# Predict the values from the validation dataset\n",
    "Y_pred = matrixmodeldataaug.predict(X_val0)\n",
    "# Convert predictions classes to one hot vectors \n",
    "Y_pred_classes = np.argmax(Y_pred,axis = 1) \n",
    "# Convert validation observations to one hot vectors\n",
    "Y_true = np.argmax(Y_val0,axis = 1) \n",
    "# compute the confusion matrix\n",
    "confusion_mtx = confusion_matrix(Y_true, Y_pred_classes) \n",
    "# plot the confusion matrix\n",
    "plot_confusion_matrix(confusion_mtx, classes = range(10)) "
   ]
  },
  {
   "cell_type": "code",
   "execution_count": 45,
   "id": "5c010bc8",
   "metadata": {
    "execution": {
     "iopub.execute_input": "2023-03-24T10:44:59.223813Z",
     "iopub.status.busy": "2023-03-24T10:44:59.222826Z",
     "iopub.status.idle": "2023-03-24T10:45:01.040381Z",
     "shell.execute_reply": "2023-03-24T10:45:01.039381Z"
    },
    "papermill": {
     "duration": 3.304265,
     "end_time": "2023-03-24T10:45:01.043053",
     "exception": false,
     "start_time": "2023-03-24T10:44:57.738788",
     "status": "completed"
    },
    "tags": []
   },
   "outputs": [
    {
     "name": "stdout",
     "output_type": "stream",
     "text": [
      "132/132 [==============================] - 1s 6ms/step\n"
     ]
    },
    {
     "data": {
      "image/png": "[encoded data removed]",
      "text/plain": [
       "<Figure size 640x480 with 2 Axes>"
      ]
     },
     "metadata": {},
     "output_type": "display_data"
    }
   ],
   "source": [
    "def plot_confusion_matrix(cm, classes,\n",
    "                          normalize=False,\n",
    "                          title='Confusion matrix convolutional model',\n",
    "                          cmap=plt.cm.Blues):\n",
    "    \"\"\"\n",
    "    This function prints and plots the confusion matrix.\n",
    "    Normalization can be applied by setting `normalize=True`.\n",
    "    \"\"\"\n",
    "    plt.imshow(cm, interpolation='nearest', cmap=cmap)\n",
    "    plt.title(title)\n",
    "    plt.colorbar()\n",
    "    tick_marks = np.arange(len(classes))\n",
    "    plt.xticks(tick_marks, classes, rotation=45)\n",
    "    plt.yticks(tick_marks, classes)\n",
    "\n",
    "    if normalize:\n",
    "        cm = cm.astype('float') / cm.sum(axis=1)[:, np.newaxis]\n",
    "\n",
    "    thresh = cm.max() / 2.\n",
    "    for i, j in itertools.product(range(cm.shape[0]), range(cm.shape[1])):\n",
    "        plt.text(j, i, cm[i, j],\n",
    "                 horizontalalignment=\"center\",\n",
    "                 color=\"white\" if cm[i, j] > thresh else \"black\")\n",
    "\n",
    "    plt.tight_layout()\n",
    "    plt.ylabel('True label')\n",
    "    plt.xlabel('Predicted label')\n",
    "\n",
    "# Predict the values from the validation dataset\n",
    "Y_pred = convmodeldataaug.predict(X_val0)\n",
    "# Convert predictions classes to one hot vectors \n",
    "Y_pred_classes = np.argmax(Y_pred,axis = 1) \n",
    "# Convert validation observations to one hot vectors\n",
    "Y_true = np.argmax(Y_val0,axis = 1) \n",
    "# compute the confusion matrix\n",
    "confusion_mtx = confusion_matrix(Y_true, Y_pred_classes) \n",
    "# plot the confusion matrix\n",
    "plot_confusion_matrix(confusion_mtx, classes = range(10)) "
   ]
  },
  {
   "cell_type": "code",
   "execution_count": 46,
   "id": "f4492fa8",
   "metadata": {
    "execution": {
     "iopub.execute_input": "2023-03-24T10:45:04.015366Z",
     "iopub.status.busy": "2023-03-24T10:45:04.014952Z",
     "iopub.status.idle": "2023-03-24T10:45:04.694226Z",
     "shell.execute_reply": "2023-03-24T10:45:04.692768Z"
    },
    "papermill": {
     "duration": 2.117119,
     "end_time": "2023-03-24T10:45:04.697130",
     "exception": false,
     "start_time": "2023-03-24T10:45:02.580011",
     "status": "completed"
    },
    "tags": []
   },
   "outputs": [
    {
     "data": {
      "image/png": "[encoded data removed]",
      "text/plain": [
       "<Figure size 640x480 with 6 Axes>"
      ]
     },
     "metadata": {},
     "output_type": "display_data"
    }
   ],
   "source": [
    "# Display some error results \n",
    "\n",
    "# Errors are difference between predicted labels and true labels\n",
    "errors = (Y_pred_classes - Y_true != 0)\n",
    "\n",
    "Y_pred_classes_errors = Y_pred_classes[errors]\n",
    "Y_pred_errors = Y_pred[errors]\n",
    "Y_true_errors = Y_true[errors]\n",
    "X_val_errors = X_val1[errors]\n",
    "\n",
    "def display_errors(errors_index,img_errors,pred_errors, obs_errors):\n",
    "    \"\"\" This function shows 6 images with their predicted and real labels\"\"\"\n",
    "    n = 0\n",
    "    nrows = 2\n",
    "    ncols = 3\n",
    "    fig, ax = plt.subplots(nrows,ncols,sharex=True,sharey=True)\n",
    "    for row in range(nrows):\n",
    "        for col in range(ncols):\n",
    "            error = errors_index[n]\n",
    "            ax[row,col].imshow((img_errors[error]).reshape((28,28)))\n",
    "            ax[row,col].set_title(\"Predicted label :{}\\nTrue label :{}\".format(pred_errors[error],obs_errors[error]))\n",
    "            n += 1\n",
    "\n",
    "# Probabilities of the wrong predicted numbers\n",
    "Y_pred_errors_prob = np.max(Y_pred_errors,axis = 1)\n",
    "\n",
    "# Predicted probabilities of the true values in the error set\n",
    "true_prob_errors = np.diagonal(np.take(Y_pred_errors, Y_true_errors, axis=1))\n",
    "\n",
    "# Difference between the probability of the predicted label and the true label\n",
    "delta_pred_true_errors = Y_pred_errors_prob - true_prob_errors\n",
    "\n",
    "# Sorted list of the delta prob errors\n",
    "sorted_dela_errors = np.argsort(delta_pred_true_errors)\n",
    "\n",
    "# Top 6 errors \n",
    "most_important_errors = sorted_dela_errors[-6:]\n",
    "\n",
    "# Show the top 6 errors\n",
    "display_errors(most_important_errors, X_val_errors, Y_pred_classes_errors, Y_true_errors)"
   ]
  },
  {
   "cell_type": "markdown",
   "id": "3a911cec",
   "metadata": {
    "papermill": {
     "duration": 1.507385,
     "end_time": "2023-03-24T10:45:07.738347",
     "exception": false,
     "start_time": "2023-03-24T10:45:06.230962",
     "status": "completed"
    },
    "tags": []
   },
   "source": [
    "## 6. Submissions <a class=\"anchor\" id=\"Submissions\"></a>"
   ]
  },
  {
   "cell_type": "code",
   "execution_count": 47,
   "id": "16aaf843",
   "metadata": {
    "execution": {
     "iopub.execute_input": "2023-03-24T10:45:10.724893Z",
     "iopub.status.busy": "2023-03-24T10:45:10.724461Z",
     "iopub.status.idle": "2023-03-24T10:45:13.496626Z",
     "shell.execute_reply": "2023-03-24T10:45:13.494957Z"
    },
    "papermill": {
     "duration": 4.265421,
     "end_time": "2023-03-24T10:45:13.499738",
     "exception": false,
     "start_time": "2023-03-24T10:45:09.234317",
     "status": "completed"
    },
    "tags": []
   },
   "outputs": [
    {
     "name": "stdout",
     "output_type": "stream",
     "text": [
      "875/875 [==============================] - 2s 2ms/step\n"
     ]
    }
   ],
   "source": [
    "# predict results\n",
    "results1 = simplemodel.predict(dtest_normalized)\n",
    "\n",
    "# select the indix with the maximum probability\n",
    "predictions1 = np.argmax(results1,axis = 1)\n",
    "\n",
    "predictions1 = pd.Series(predictions1,name=\"Label\")"
   ]
  },
  {
   "cell_type": "code",
   "execution_count": 48,
   "id": "aa41112b",
   "metadata": {
    "execution": {
     "iopub.execute_input": "2023-03-24T10:45:16.457811Z",
     "iopub.status.busy": "2023-03-24T10:45:16.457329Z",
     "iopub.status.idle": "2023-03-24T10:45:18.786867Z",
     "shell.execute_reply": "2023-03-24T10:45:18.785592Z"
    },
    "papermill": {
     "duration": 3.793621,
     "end_time": "2023-03-24T10:45:18.789800",
     "exception": false,
     "start_time": "2023-03-24T10:45:14.996179",
     "status": "completed"
    },
    "tags": []
   },
   "outputs": [
    {
     "name": "stdout",
     "output_type": "stream",
     "text": [
      "875/875 [==============================] - 2s 2ms/step\n"
     ]
    }
   ],
   "source": [
    "# predict results\n",
    "results0 = matrixmodel.predict(dtest_matrix)\n",
    "\n",
    "# select the indix with the maximum probability\n",
    "predictions0 = np.argmax(results0,axis = 1)\n",
    "\n",
    "predictions0 = pd.Series(predictions0,name=\"Label\")"
   ]
  },
  {
   "cell_type": "code",
   "execution_count": 49,
   "id": "d7be0876",
   "metadata": {
    "execution": {
     "iopub.execute_input": "2023-03-24T10:45:21.802593Z",
     "iopub.status.busy": "2023-03-24T10:45:21.802094Z",
     "iopub.status.idle": "2023-03-24T10:45:27.914180Z",
     "shell.execute_reply": "2023-03-24T10:45:27.912859Z"
    },
    "papermill": {
     "duration": 7.621043,
     "end_time": "2023-03-24T10:45:27.917851",
     "exception": false,
     "start_time": "2023-03-24T10:45:20.296808",
     "status": "completed"
    },
    "tags": []
   },
   "outputs": [
    {
     "name": "stdout",
     "output_type": "stream",
     "text": [
      "875/875 [==============================] - 6s 6ms/step\n"
     ]
    }
   ],
   "source": [
    "# predict results\n",
    "resultsconv = convmodel.predict(dtest_matrix)\n",
    "\n",
    "# select the indix with the maximum probability\n",
    "predictionsconv = np.argmax(resultsconv,axis = 1)\n",
    "\n",
    "predictionsconv = pd.Series(predictionsconv,name=\"Label\")"
   ]
  },
  {
   "cell_type": "code",
   "execution_count": 50,
   "id": "2a5203ac",
   "metadata": {
    "execution": {
     "iopub.execute_input": "2023-03-24T10:45:30.946690Z",
     "iopub.status.busy": "2023-03-24T10:45:30.945560Z",
     "iopub.status.idle": "2023-03-24T10:45:30.987067Z",
     "shell.execute_reply": "2023-03-24T10:45:30.985758Z"
    },
    "papermill": {
     "duration": 1.557033,
     "end_time": "2023-03-24T10:45:30.990029",
     "exception": false,
     "start_time": "2023-03-24T10:45:29.432996",
     "status": "completed"
    },
    "tags": []
   },
   "outputs": [],
   "source": [
    "submission = pd.concat([pd.Series(range(1,28001),name = \"ImageId\"),predictions1],axis = 1)\n",
    "submission.to_csv(\"submission.csv\",index=False)"
   ]
  },
  {
   "cell_type": "code",
   "execution_count": 51,
   "id": "ace02a69",
   "metadata": {
    "execution": {
     "iopub.execute_input": "2023-03-24T10:45:34.089539Z",
     "iopub.status.busy": "2023-03-24T10:45:34.089075Z",
     "iopub.status.idle": "2023-03-24T10:45:34.127028Z",
     "shell.execute_reply": "2023-03-24T10:45:34.125970Z"
    },
    "papermill": {
     "duration": 1.565039,
     "end_time": "2023-03-24T10:45:34.129896",
     "exception": false,
     "start_time": "2023-03-24T10:45:32.564857",
     "status": "completed"
    },
    "tags": []
   },
   "outputs": [],
   "source": [
    "submission = pd.concat([pd.Series(range(1,28001),name = \"ImageId\"),predictions0],axis = 1)\n",
    "submission.to_csv(\"submission0.csv\",index=False)"
   ]
  },
  {
   "cell_type": "code",
   "execution_count": 52,
   "id": "c875947b",
   "metadata": {
    "execution": {
     "iopub.execute_input": "2023-03-24T10:45:37.057684Z",
     "iopub.status.busy": "2023-03-24T10:45:37.056753Z",
     "iopub.status.idle": "2023-03-24T10:45:37.093483Z",
     "shell.execute_reply": "2023-03-24T10:45:37.092334Z"
    },
    "papermill": {
     "duration": 1.461389,
     "end_time": "2023-03-24T10:45:37.096909",
     "exception": false,
     "start_time": "2023-03-24T10:45:35.635520",
     "status": "completed"
    },
    "tags": []
   },
   "outputs": [],
   "source": [
    "submission = pd.concat([pd.Series(range(1,28001),name = \"ImageId\"),predictionsconv],axis = 1)\n",
    "submission.to_csv(\"submissionconv.csv\",index=False)"
   ]
  },
  {
   "cell_type": "code",
   "execution_count": 53,
   "id": "8db4c560",
   "metadata": {
    "execution": {
     "iopub.execute_input": "2023-03-24T10:45:40.139673Z",
     "iopub.status.busy": "2023-03-24T10:45:40.138749Z",
     "iopub.status.idle": "2023-03-24T10:45:42.896413Z",
     "shell.execute_reply": "2023-03-24T10:45:42.894893Z"
    },
    "papermill": {
     "duration": 4.269758,
     "end_time": "2023-03-24T10:45:42.899597",
     "exception": false,
     "start_time": "2023-03-24T10:45:38.629839",
     "status": "completed"
    },
    "tags": []
   },
   "outputs": [
    {
     "name": "stdout",
     "output_type": "stream",
     "text": [
      "875/875 [==============================] - 2s 2ms/step\n"
     ]
    }
   ],
   "source": [
    "# predict results\n",
    "results = matrixmodeldataaug.predict(dtest_matrix)\n",
    "\n",
    "# select the indix with the maximum probability\n",
    "predictions = np.argmax(results,axis = 1)\n",
    "\n",
    "predictions = pd.Series(predictions,name=\"Label\")"
   ]
  },
  {
   "cell_type": "code",
   "execution_count": 54,
   "id": "36293680",
   "metadata": {
    "execution": {
     "iopub.execute_input": "2023-03-24T10:45:45.935330Z",
     "iopub.status.busy": "2023-03-24T10:45:45.934919Z",
     "iopub.status.idle": "2023-03-24T10:45:45.972159Z",
     "shell.execute_reply": "2023-03-24T10:45:45.969972Z"
    },
    "papermill": {
     "duration": 1.552203,
     "end_time": "2023-03-24T10:45:45.976041",
     "exception": false,
     "start_time": "2023-03-24T10:45:44.423838",
     "status": "completed"
    },
    "tags": []
   },
   "outputs": [],
   "source": [
    "submission = pd.concat([pd.Series(range(1,28001),name = \"ImageId\"),predictions],axis = 1)\n",
    "submission.to_csv(\"submissionmatrixdataaug.csv\",index=False)"
   ]
  },
  {
   "cell_type": "code",
   "execution_count": 55,
   "id": "06684b99",
   "metadata": {
    "execution": {
     "iopub.execute_input": "2023-03-24T10:45:48.920658Z",
     "iopub.status.busy": "2023-03-24T10:45:48.919435Z",
     "iopub.status.idle": "2023-03-24T10:45:54.913055Z",
     "shell.execute_reply": "2023-03-24T10:45:54.911895Z"
    },
    "papermill": {
     "duration": 7.427828,
     "end_time": "2023-03-24T10:45:54.915961",
     "exception": false,
     "start_time": "2023-03-24T10:45:47.488133",
     "status": "completed"
    },
    "tags": []
   },
   "outputs": [
    {
     "name": "stdout",
     "output_type": "stream",
     "text": [
      "875/875 [==============================] - 6s 6ms/step\n"
     ]
    }
   ],
   "source": [
    "# predict results\n",
    "results = convmodeldataaug.predict(dtest_matrix)\n",
    "\n",
    "# select the indix with the maximum probability\n",
    "predictions = np.argmax(results0,axis = 1)\n",
    "\n",
    "predictions = pd.Series(predictions,name=\"Label\")"
   ]
  },
  {
   "cell_type": "code",
   "execution_count": 56,
   "id": "7ae78bf2",
   "metadata": {
    "execution": {
     "iopub.execute_input": "2023-03-24T10:45:57.956927Z",
     "iopub.status.busy": "2023-03-24T10:45:57.955672Z",
     "iopub.status.idle": "2023-03-24T10:45:57.991062Z",
     "shell.execute_reply": "2023-03-24T10:45:57.990036Z"
    },
    "papermill": {
     "duration": 1.55181,
     "end_time": "2023-03-24T10:45:57.994477",
     "exception": false,
     "start_time": "2023-03-24T10:45:56.442667",
     "status": "completed"
    },
    "tags": []
   },
   "outputs": [],
   "source": [
    "submission = pd.concat([pd.Series(range(1,28001),name = \"ImageId\"),predictions],axis = 1)\n",
    "submission.to_csv(\"submissionconvdataaug.csv\",index=False)"
   ]
  },
  {
   "cell_type": "code",
   "execution_count": null,
   "id": "9297310e",
   "metadata": {
    "papermill": {
     "duration": 1.546897,
     "end_time": "2023-03-24T10:46:01.053198",
     "exception": false,
     "start_time": "2023-03-24T10:45:59.506301",
     "status": "completed"
    },
    "tags": []
   },
   "outputs": [],
   "source": []
  }
 ],
 "metadata": {
  "kernelspec": {
   "display_name": "Python 3",
   "language": "python",
   "name": "python3"
  },
  "language_info": {
   "codemirror_mode": {
    "name": "ipython",
    "version": 3
   },
   "file_extension": ".py",
   "mimetype": "text/x-python",
   "name": "python",
   "nbconvert_exporter": "python",
   "pygments_lexer": "ipython3",
   "version": "3.7.12"
  },
  "papermill": {
   "default_parameters": {},
   "duration": 1840.212431,
   "end_time": "2023-03-24T10:46:05.247422",
   "environment_variables": {},
   "exception": null,
   "input_path": "__notebook__.ipynb",
   "output_path": "__notebook__.ipynb",
   "parameters": {},
   "start_time": "2023-03-24T10:15:25.034991",
   "version": "2.4.0"
  }
 },
 "nbformat": 4,
 "nbformat_minor": 5
}
